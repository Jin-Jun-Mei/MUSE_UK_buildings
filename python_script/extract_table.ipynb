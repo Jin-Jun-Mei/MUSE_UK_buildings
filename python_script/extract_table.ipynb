{
 "cells": [
  {
   "cell_type": "markdown",
   "metadata": {},
   "source": [
    "extract the table content from PDF"
   ]
  },
  {
   "cell_type": "code",
   "execution_count": 1,
   "metadata": {},
   "outputs": [],
   "source": [
    "import camelot\n",
    "import pandas as pd\n",
    "from pathlib import Path\n",
    "# from PyPDF2 import PdfReader"
   ]
  },
  {
   "cell_type": "code",
   "execution_count": 5,
   "metadata": {},
   "outputs": [
    {
     "name": "stdout",
     "output_type": "stream",
     "text": [
      "Number of tables found: 1\n",
      "                 0         1         2         3         4         5  \\\n",
      "0             Cold  All days  Holidays  Workdays  All days  Holidays   \n",
      "1       appliances     16.2%     15.9%     16.3%     13.4%     12.8%   \n",
      "2          Cooking     13.8%     14.1%     13.6%     11.7%     11.9%   \n",
      "3         Lighting     15.4%     14.3%     15.8%     10.0%      9.0%   \n",
      "4      Audiovisual     14.4%     14.5%     14.4%     10.4%     10.6%   \n",
      "5              ICT      6.1%      5.9%      6.1%      3.6%      3.5%   \n",
      "6   Washing/Drying     13.6%     14.7%     13.2%     10.7%     12.1%   \n",
      "7          Heating                                   22.5%     20.8%   \n",
      "8    Water heating      7.1%      7.0%      7.2%      4.0%      4.5%   \n",
      "9            Other      3.7%      3.6%      3.7%      5.8%      7.3%   \n",
      "10       Not known      9.7%     10.0%      9.8%      7.9%      7.4%   \n",
      "\n",
      "           6         7         8         9  \n",
      "0   Workdays  All days  Holidays  Workdays  \n",
      "1      13.6%      4.7%      5.0%      4.6%  \n",
      "2      11.5%      7.2%      8.3%      6.8%  \n",
      "3      10.3%      5.8%      6.4%      5.5%  \n",
      "4      10.2%      3.4%      3.2%      3.5%  \n",
      "5       3.7%      2.6%      1.5%      3.0%  \n",
      "6      10.0%      3.1%      3.1%      3.1%  \n",
      "7      23.0%     64.2%     59.1%     65.8%  \n",
      "8       3.8%      6.3%      7.6%      5.8%  \n",
      "9       5.1%      1.5%      1.0%      1.7%  \n",
      "10      8.7%      1.2%      4.8%      0.2%  \n"
     ]
    }
   ],
   "source": [
    "# Step 1: Define the PDF path\n",
    "\n",
    "data_folder = Path.cwd().parent / \"Ofgem_Archetype\" #survey_data\n",
    "pdf_path = data_folder / \"Table2_survey.pdf\"\n",
    "\n",
    "# Step 2: Extract tables from the PDF\n",
    "tables = camelot.read_pdf(str(pdf_path), pages=\"1\", flavor=\"stream\")  # Use 'stream' or 'lattice'\n",
    "\n",
    "# Step 3: Check if tables were extracted\n",
    "if tables.n > 0:\n",
    "    print(f\"Number of tables found: {tables.n}\")\n",
    "    # Print the first table for debugging\n",
    "    # print(tables[0].df)\n",
    "else:\n",
    "    raise ValueError(\"No tables found in the PDF.\")\n",
    "\n",
    "# Step 4: Export the first table (Table 2) to a DataFrame\n",
    "table_2_df = tables[0].df  # Get the first extracted table\n",
    "\n",
    "# Step 5: Optional - Save the DataFrame to a CSV file for further inspection\n",
    "# table_2_df.to_csv(data_folder /\"survey_data_table2.csv\", index=False)\n",
    "\n",
    "# Print the DataFrame for verification\n",
    "print(table_2_df)\n"
   ]
  },
  {
   "cell_type": "code",
   "execution_count": null,
   "metadata": {},
   "outputs": [],
   "source": []
  }
 ],
 "metadata": {
  "kernelspec": {
   "display_name": "Python 3",
   "language": "python",
   "name": "python3"
  },
  "language_info": {
   "codemirror_mode": {
    "name": "ipython",
    "version": 3
   },
   "file_extension": ".py",
   "mimetype": "text/x-python",
   "name": "python",
   "nbconvert_exporter": "python",
   "pygments_lexer": "ipython3",
   "version": "3.12.4"
  }
 },
 "nbformat": 4,
 "nbformat_minor": 2
}
