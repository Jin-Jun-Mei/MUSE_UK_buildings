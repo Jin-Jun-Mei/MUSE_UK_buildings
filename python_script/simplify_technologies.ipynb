{
 "cells": [
  {
   "cell_type": "markdown",
   "metadata": {},
   "source": [
    "There are (too) many technologies. These can potentially create problems (such as memory overload). Here we combine some technologies that are very similar."
   ]
  },
  {
   "cell_type": "markdown",
   "metadata": {},
   "source": []
  },
  {
   "cell_type": "code",
   "execution_count": 1,
   "metadata": {},
   "outputs": [],
   "source": [
    "%load_ext autoreload\n",
    "%autoreload 2"
   ]
  },
  {
   "cell_type": "code",
   "execution_count": 2,
   "metadata": {},
   "outputs": [],
   "source": [
    "import pandas as pd\n",
    "from pathlib import Path\n",
    "import shutil\n",
    "# import numpy as np"
   ]
  },
  {
   "cell_type": "markdown",
   "metadata": {},
   "source": [
    "choose which version we want to combine (single agent or multi-agents)"
   ]
  },
  {
   "cell_type": "code",
   "execution_count": 3,
   "metadata": {},
   "outputs": [],
   "source": [
    "# Define the supported versions\n",
    "SUPPORTED_VERSIONS = ['single_agent', 'Ofgem_agents']\n",
    "\n",
    "# Set the version (should be one of the SUPPORTED_VERSIONS)\n",
    "version = SUPPORTED_VERSIONS[1]  # Change this to your desired version"
   ]
  },
  {
   "cell_type": "code",
   "execution_count": 4,
   "metadata": {},
   "outputs": [],
   "source": [
    "# input data folder\n",
    "data_folder = Path.cwd().parent / 'Buildings' / 'MUSE_Files'/ version\n",
    "\n",
    "output_folder = Path.cwd().parent / 'Buildings' / 'MUSE_Files' / 'tech_reduced'/ version\n",
    "\n",
    "# Check if the folder exists, and create it if it doesn't\n",
    "output_folder.mkdir(parents=True, exist_ok=True)\n"
   ]
  },
  {
   "cell_type": "markdown",
   "metadata": {},
   "source": [
    "First process the Technodata.csv"
   ]
  },
  {
   "cell_type": "code",
   "execution_count": 5,
   "metadata": {},
   "outputs": [
    {
     "ename": "ImportError",
     "evalue": "cannot import name 'combine_tech' from 'help_functions' (c:\\Users\\jyang8\\MUSE_models\\MUSE_buildings\\python_script\\help_functions.py)",
     "output_type": "error",
     "traceback": [
      "\u001b[1;31m---------------------------------------------------------------------------\u001b[0m",
      "\u001b[1;31mImportError\u001b[0m                               Traceback (most recent call last)",
      "Cell \u001b[1;32mIn[5], line 1\u001b[0m\n\u001b[1;32m----> 1\u001b[0m \u001b[38;5;28;01mfrom\u001b[39;00m \u001b[38;5;21;01mhelp_functions\u001b[39;00m \u001b[38;5;28;01mimport\u001b[39;00m combine_tech, reorder_columns\n",
      "\u001b[1;31mImportError\u001b[0m: cannot import name 'combine_tech' from 'help_functions' (c:\\Users\\jyang8\\MUSE_models\\MUSE_buildings\\python_script\\help_functions.py)"
     ]
    }
   ],
   "source": [
    "from help_functions import combine_tech, reorder_columns"
   ]
  },
  {
   "cell_type": "markdown",
   "metadata": {},
   "source": [
    "combine similar technologies based on identical values, ignoring the \"ProcessName\" and \"MaxCapacityAddition\" columns"
   ]
  },
  {
   "cell_type": "code",
   "execution_count": 6,
   "metadata": {},
   "outputs": [],
   "source": [
    "# Load the CSV file into a Pandas DataFrame\n",
    "df = pd.read_csv(data_folder / 'Technodata.csv')\n",
    "unit_row = df.iloc[[0]]\n",
    "df = df.iloc[1:].reset_index(drop=True)"
   ]
  },
  {
   "cell_type": "code",
   "execution_count": null,
   "metadata": {},
   "outputs": [],
   "source": [
    "# Define the columns to group by (all except 'ProcessName' and 'MaxCapacityAddition')\n",
    "group_by_columns = [col for col in df.columns if col not in ['ProcessName', 'MaxCapacityAddition']]\n",
    "\n",
    "# Group the DataFrame based on similarity of all columns except 'ProcessName' and 'MaxCapacityAddition'\n",
    "grouped_tech = df.groupby(group_by_columns, as_index=False).agg({\n",
    "    'ProcessName': lambda x: '; '.join(x),\n",
    "    'MaxCapacityAddition': lambda x: max(pd.to_numeric(x, errors='coerce'))\n",
    "})\n",
    "\n",
    "# Create a mapping dictionary to track which original rows were combined\n",
    "process_name_mapping = {}\n",
    "\n",
    "# Iterate over groups in the grouped DataFrame\n",
    "for combined_index, group in grouped_tech.iterrows():\n",
    "    # Combined ProcessName in the grouped DataFrame\n",
    "    combined_process_name = group['ProcessName']\n",
    "    \n",
    "    # Find matching rows in the original DataFrame based on all other columns\n",
    "    matching_rows = df[\n",
    "        (df[group_by_columns] == group[group_by_columns]).all(axis=1)\n",
    "    ]\n",
    "    \n",
    "    # Original ProcessNames from the matching rows\n",
    "    original_process_names = matching_rows['ProcessName'].tolist()\n",
    "    \n",
    "    # Map the combined ProcessName to the original ProcessNames\n",
    "    process_name_mapping[combined_process_name] = original_process_names\n",
    "\n",
    "\n",
    "# put \"ProcessName\" as the first column\n",
    "grouped_tech = reorder_columns(grouped_tech, \"ProcessName\")\n",
    "# re-add the unit row\n",
    "grouped_tech = pd.concat([unit_row, grouped_tech], ignore_index=True)\n",
    "\n",
    "# Save the grouped DataFrame to a new CSV file\n",
    "grouped_tech.to_csv(output_folder / 'Technodata.csv', index=False)\n",
    "\n"
   ]
  },
  {
   "cell_type": "markdown",
   "metadata": {},
   "source": [
    "Second, proccess the ExistingCapacity.csv"
   ]
  },
  {
   "cell_type": "code",
   "execution_count": 11,
   "metadata": {},
   "outputs": [],
   "source": [
    "# Function to map the ProcessName column using the process_name_mapping\n",
    "def map_process_name(process_name):\n",
    "    for combined_name, original_names in process_name_mapping.items():\n",
    "        if process_name in original_names:\n",
    "            return combined_name\n",
    "    return process_name  # Return the original name if no match is found"
   ]
  },
  {
   "cell_type": "code",
   "execution_count": 13,
   "metadata": {},
   "outputs": [],
   "source": [
    "# read the existing capacity file\n",
    "ExistingCapacity_df = pd.read_csv(data_folder / 'ExistingCapacity.csv')\n",
    "\n",
    "# Apply the mapping to the ProcessName column in the new DataFrame\n",
    "ExistingCapacity_df['ProcessName']= ExistingCapacity_df['ProcessName'].apply(map_process_name)\n",
    "\n",
    "# Identify numerical columns and other relevant columns\n",
    "numerical_columns = [col for col in ExistingCapacity_df.columns if col not in ['ProcessName', 'RegionName', 'Unit']]\n",
    "non_numerical_columns = ['RegionName', 'Unit']\n",
    "\n",
    "# Group by 'ProcessName' and aggregate\n",
    "ExistingCapacity_df = ExistingCapacity_df.groupby('ProcessName', as_index=False).agg(\n",
    "    {**{col: 'sum' for col in numerical_columns}, **{col: 'first' for col in non_numerical_columns}}\n",
    ")\n",
    "\n",
    "# save the file\n",
    "ExistingCapacity_df.to_csv(output_folder / 'ExistingCapacity.csv', index=False)"
   ]
  },
  {
   "cell_type": "markdown",
   "metadata": {},
   "source": [
    "CommIn.csv and CommOut.csv"
   ]
  },
  {
   "cell_type": "code",
   "execution_count": null,
   "metadata": {},
   "outputs": [],
   "source": [
    "for file in ['CommIn.csv', 'CommOut.csv']:\n",
    "    # read the CommIn file\n",
    "    df = pd.read_csv(data_folder / file)\n",
    "\n",
    "    # seperate the annoying unit row, (will be added back later)\n",
    "    unit_row = df.iloc[[0]]\n",
    "\n",
    "    # the actual data\n",
    "    data = df.iloc[1:].reset_index(drop=True)\n",
    "\n",
    "    # Identify numerical columns for averaging (exclude non-numerical columns)\n",
    "    exclude_columns = ['ProcessName', 'RegionName', 'Time']\n",
    "    if 'Level' in data.columns:\n",
    "        exclude_columns.append('Level')\n",
    "    numerical_columns = [col for col in data.columns if col not in exclude_columns]\n",
    "    non_numerical_columns = [col for col in exclude_columns if col in data.columns]\n",
    "\n",
    "    # Convert numerical columns to numeric, coercing errors to NaN\n",
    "    for col in numerical_columns:\n",
    "        data[col] = pd.to_numeric(data[col], errors='coerce')\n",
    "\n",
    "    # Apply the mapping to the ProcessName column in the new DataFrame\n",
    "    data['ProcessName']= data['ProcessName'].apply(map_process_name)\n",
    "\n",
    "    # Group by 'ProcessName' and aggregate\n",
    "    combined_rows = data.groupby('ProcessName', as_index=False).agg(\n",
    "        {**{col: 'mean' for col in numerical_columns}, **{col: 'first' for col in non_numerical_columns}}\n",
    "    )\n",
    "    \n",
    "    # add the unit row back\n",
    "    combined_rows = pd.concat([unit_row, combined_rows], ignore_index=True)\n",
    "    \n",
    "    # save the file\n",
    "    combined_rows.to_csv(output_folder / file, index=False)\n",
    "\n",
    "    print(f\"{file} saved successfully\")\n"
   ]
  },
  {
   "cell_type": "markdown",
   "metadata": {},
   "source": [
    "TechnodataTimeslices.csv"
   ]
  },
  {
   "cell_type": "code",
   "execution_count": 35,
   "metadata": {},
   "outputs": [],
   "source": [
    "TechnodataTimeslices = pd.read_csv(data_folder / 'TechnodataTimeslices.csv')\n",
    "# Apply the mapping to the ProcessName column in the new DataFrame\n",
    "TechnodataTimeslices ['ProcessName']= TechnodataTimeslices ['ProcessName'].apply(map_process_name)\n",
    "\n",
    "# Group by the specified columns and compute the average for target columns\n",
    "group_columns = ['ProcessName', 'RegionName', 'Time', 'season', 'period']\n",
    "average_columns = ['UtilizationFactor', 'MinimumServiceFactor']\n",
    "\n",
    "# Combine rows and compute averages\n",
    "TechnodataTimeslices = TechnodataTimeslices.groupby(group_columns, as_index=False).agg(\n",
    "    {col: 'mean' for col in average_columns}\n",
    ")\n",
    "\n",
    "TechnodataTimeslices.to_csv(output_folder / 'TechnodataTimeslices.csv', index=False)"
   ]
  },
  {
   "cell_type": "markdown",
   "metadata": {},
   "source": [
    "Other MUSE MUSE input files will be same, so we just need to copy it over here"
   ]
  },
  {
   "cell_type": "code",
   "execution_count": null,
   "metadata": {},
   "outputs": [
    {
     "name": "stdout",
     "output_type": "stream",
     "text": [
      "Copied TOML: c:\\Users\\jyang8\\MUSE_models\\MUSE_buildings\\Buildings\\MUSE_Files\\settings_Buildings.toml to c:\\Users\\jyang8\\MUSE_models\\MUSE_buildings\\Buildings\\MUSE_Files\\tech_reduced\\settings_Buildings.toml\n",
      "CSV check and copy operation completed.\n"
     ]
    }
   ],
   "source": [
    "# Define the source directory (one level up)\n",
    "source_dir = data_folder\n",
    "\n",
    "# Define the destination directory (current working directory)\n",
    "destination_dir = output_folder\n",
    "\n",
    "# Ensure the destination directory exists\n",
    "destination_dir.mkdir(exist_ok=True)\n",
    "\n",
    "# Iterate through CSV files in the source directory\n",
    "for file in source_dir.glob(\"*.csv\"):  # Matches all CSV files in the source directory\n",
    "    destination_path = destination_dir / file.name\n",
    "    \n",
    "    # Check if the file already exists in the current directory\n",
    "    if not destination_path.exists():\n",
    "        # Copy the file if it doesn't exist\n",
    "        shutil.copy(file, destination_path)\n",
    "        print(f\"Copied: {file} to {destination_path}\")\n",
    "    #else:\n",
    "        #print(f\"File already exists: {destination_path}\")\n",
    "\n",
    "# Copy the TOML file\n",
    "toml_file = next(source_dir.glob(\"*.toml\"), None)  # Get the first (and only) .toml file\n",
    "if toml_file:\n",
    "    destination_path = destination_dir / toml_file.name\n",
    "    if not destination_path.exists():\n",
    "        shutil.copy(toml_file, destination_path)\n",
    "        print(f\"Copied TOML: {toml_file} to {destination_path}\")\n",
    "    else:\n",
    "        print(f\"TOML already exists: {destination_path}\")\n",
    "\n",
    "print(\"copy operation completed.\")"
   ]
  },
  {
   "cell_type": "markdown",
   "metadata": {},
   "source": [
    "====================================END==================================="
   ]
  }
 ],
 "metadata": {
  "kernelspec": {
   "display_name": "Python 3",
   "language": "python",
   "name": "python3"
  },
  "language_info": {
   "codemirror_mode": {
    "name": "ipython",
    "version": 3
   },
   "file_extension": ".py",
   "mimetype": "text/x-python",
   "name": "python",
   "nbconvert_exporter": "python",
   "pygments_lexer": "ipython3",
   "version": "3.12.4"
  }
 },
 "nbformat": 4,
 "nbformat_minor": 2
}
