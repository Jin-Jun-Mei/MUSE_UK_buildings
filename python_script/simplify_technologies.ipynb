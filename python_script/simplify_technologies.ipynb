{
 "cells": [
  {
   "cell_type": "markdown",
   "metadata": {},
   "source": [
    "There are (too) many technologies. These can potentially create problems (such as memory overload). Here we combine some technologies that are very similar."
   ]
  },
  {
   "cell_type": "markdown",
   "metadata": {},
   "source": []
  },
  {
   "cell_type": "code",
   "execution_count": 1,
   "metadata": {},
   "outputs": [],
   "source": [
    "%load_ext autoreload\n",
    "%autoreload 2"
   ]
  },
  {
   "cell_type": "code",
   "execution_count": 2,
   "metadata": {},
   "outputs": [],
   "source": [
    "import pandas as pd\n",
    "from pathlib import Path\n",
    "import shutil\n",
    "# import some functions from the help_functions.py file\n",
    "from help_functions import combine_tech, reorder_columns"
   ]
  },
  {
   "cell_type": "markdown",
   "metadata": {},
   "source": [
    "choose which version we want to combine (single agent or multi-agents)"
   ]
  },
  {
   "cell_type": "code",
   "execution_count": 3,
   "metadata": {},
   "outputs": [],
   "source": [
    "# Define the supported versions\n",
    "SUPPORTED_VERSIONS = ['single_agents', 'Ofgem_agents']\n",
    "\n",
    "# Set the version (should be one of the SUPPORTED_VERSIONS)\n",
    "version = SUPPORTED_VERSIONS[0]  # Change this to your desired version"
   ]
  },
  {
   "cell_type": "code",
   "execution_count": 4,
   "metadata": {},
   "outputs": [
    {
     "name": "stdout",
     "output_type": "stream",
     "text": [
      "Input folder: c:\\Users\\jyang8\\MUSE_models\\MUSE_UK_Buildings\\MUSE_Files\\Buildings\\single_agents\n",
      "Output folder: c:\\Users\\jyang8\\MUSE_models\\MUSE_UK_Buildings\\MUSE_Files\\Buildings\\tech_reduced\\single_agents\n"
     ]
    }
   ],
   "source": [
    "# input data folder\n",
    "data_folder = Path.cwd().parent / 'MUSE_Files'/ 'Buildings' / version\n",
    "\n",
    "output_folder = Path.cwd().parent / 'MUSE_Files' / 'Buildings' / 'tech_reduced'/ version\n",
    "\n",
    "# Check if the folder exists, and create it if it doesn't\n",
    "output_folder.mkdir(parents=True, exist_ok=True)\n",
    "\n",
    "print(f'Input folder: {data_folder}')\n",
    "print(f'Output folder: {output_folder}')\n"
   ]
  },
  {
   "cell_type": "markdown",
   "metadata": {},
   "source": [
    "First process the Technodata.csv"
   ]
  },
  {
   "cell_type": "markdown",
   "metadata": {},
   "source": [
    "combine similar technologies based on identical values, except the \"ProcessName\" and \"MaxCapacityAddition\" columns"
   ]
  },
  {
   "cell_type": "code",
   "execution_count": 5,
   "metadata": {},
   "outputs": [
    {
     "ename": "FileNotFoundError",
     "evalue": "[Errno 2] No such file or directory: 'c:\\\\Users\\\\jyang8\\\\MUSE_models\\\\MUSE_UK_Buildings\\\\MUSE_Files\\\\Buildings\\\\single_agents\\\\Technodata.csv'",
     "output_type": "error",
     "traceback": [
      "\u001b[1;31m---------------------------------------------------------------------------\u001b[0m",
      "\u001b[1;31mFileNotFoundError\u001b[0m                         Traceback (most recent call last)",
      "Cell \u001b[1;32mIn[5], line 2\u001b[0m\n\u001b[0;32m      1\u001b[0m \u001b[38;5;66;03m# Load the CSV file into a Pandas DataFrame\u001b[39;00m\n\u001b[1;32m----> 2\u001b[0m df \u001b[38;5;241m=\u001b[39m \u001b[43mpd\u001b[49m\u001b[38;5;241;43m.\u001b[39;49m\u001b[43mread_csv\u001b[49m\u001b[43m(\u001b[49m\u001b[43mdata_folder\u001b[49m\u001b[43m \u001b[49m\u001b[38;5;241;43m/\u001b[39;49m\u001b[43m \u001b[49m\u001b[38;5;124;43m'\u001b[39;49m\u001b[38;5;124;43mTechnodata.csv\u001b[39;49m\u001b[38;5;124;43m'\u001b[39;49m\u001b[43m)\u001b[49m\n\u001b[0;32m      3\u001b[0m unit_row \u001b[38;5;241m=\u001b[39m df\u001b[38;5;241m.\u001b[39miloc[[\u001b[38;5;241m0\u001b[39m]]\n\u001b[0;32m      4\u001b[0m df \u001b[38;5;241m=\u001b[39m df\u001b[38;5;241m.\u001b[39miloc[\u001b[38;5;241m1\u001b[39m:]\u001b[38;5;241m.\u001b[39mreset_index(drop\u001b[38;5;241m=\u001b[39m\u001b[38;5;28;01mTrue\u001b[39;00m)\n",
      "File \u001b[1;32m~\\AppData\\Local\\Packages\\PythonSoftwareFoundation.Python.3.12_qbz5n2kfra8p0\\LocalCache\\local-packages\\Python312\\site-packages\\pandas\\io\\parsers\\readers.py:1026\u001b[0m, in \u001b[0;36mread_csv\u001b[1;34m(filepath_or_buffer, sep, delimiter, header, names, index_col, usecols, dtype, engine, converters, true_values, false_values, skipinitialspace, skiprows, skipfooter, nrows, na_values, keep_default_na, na_filter, verbose, skip_blank_lines, parse_dates, infer_datetime_format, keep_date_col, date_parser, date_format, dayfirst, cache_dates, iterator, chunksize, compression, thousands, decimal, lineterminator, quotechar, quoting, doublequote, escapechar, comment, encoding, encoding_errors, dialect, on_bad_lines, delim_whitespace, low_memory, memory_map, float_precision, storage_options, dtype_backend)\u001b[0m\n\u001b[0;32m   1013\u001b[0m kwds_defaults \u001b[38;5;241m=\u001b[39m _refine_defaults_read(\n\u001b[0;32m   1014\u001b[0m     dialect,\n\u001b[0;32m   1015\u001b[0m     delimiter,\n\u001b[1;32m   (...)\u001b[0m\n\u001b[0;32m   1022\u001b[0m     dtype_backend\u001b[38;5;241m=\u001b[39mdtype_backend,\n\u001b[0;32m   1023\u001b[0m )\n\u001b[0;32m   1024\u001b[0m kwds\u001b[38;5;241m.\u001b[39mupdate(kwds_defaults)\n\u001b[1;32m-> 1026\u001b[0m \u001b[38;5;28;01mreturn\u001b[39;00m \u001b[43m_read\u001b[49m\u001b[43m(\u001b[49m\u001b[43mfilepath_or_buffer\u001b[49m\u001b[43m,\u001b[49m\u001b[43m \u001b[49m\u001b[43mkwds\u001b[49m\u001b[43m)\u001b[49m\n",
      "File \u001b[1;32m~\\AppData\\Local\\Packages\\PythonSoftwareFoundation.Python.3.12_qbz5n2kfra8p0\\LocalCache\\local-packages\\Python312\\site-packages\\pandas\\io\\parsers\\readers.py:620\u001b[0m, in \u001b[0;36m_read\u001b[1;34m(filepath_or_buffer, kwds)\u001b[0m\n\u001b[0;32m    617\u001b[0m _validate_names(kwds\u001b[38;5;241m.\u001b[39mget(\u001b[38;5;124m\"\u001b[39m\u001b[38;5;124mnames\u001b[39m\u001b[38;5;124m\"\u001b[39m, \u001b[38;5;28;01mNone\u001b[39;00m))\n\u001b[0;32m    619\u001b[0m \u001b[38;5;66;03m# Create the parser.\u001b[39;00m\n\u001b[1;32m--> 620\u001b[0m parser \u001b[38;5;241m=\u001b[39m \u001b[43mTextFileReader\u001b[49m\u001b[43m(\u001b[49m\u001b[43mfilepath_or_buffer\u001b[49m\u001b[43m,\u001b[49m\u001b[43m \u001b[49m\u001b[38;5;241;43m*\u001b[39;49m\u001b[38;5;241;43m*\u001b[39;49m\u001b[43mkwds\u001b[49m\u001b[43m)\u001b[49m\n\u001b[0;32m    622\u001b[0m \u001b[38;5;28;01mif\u001b[39;00m chunksize \u001b[38;5;129;01mor\u001b[39;00m iterator:\n\u001b[0;32m    623\u001b[0m     \u001b[38;5;28;01mreturn\u001b[39;00m parser\n",
      "File \u001b[1;32m~\\AppData\\Local\\Packages\\PythonSoftwareFoundation.Python.3.12_qbz5n2kfra8p0\\LocalCache\\local-packages\\Python312\\site-packages\\pandas\\io\\parsers\\readers.py:1620\u001b[0m, in \u001b[0;36mTextFileReader.__init__\u001b[1;34m(self, f, engine, **kwds)\u001b[0m\n\u001b[0;32m   1617\u001b[0m     \u001b[38;5;28mself\u001b[39m\u001b[38;5;241m.\u001b[39moptions[\u001b[38;5;124m\"\u001b[39m\u001b[38;5;124mhas_index_names\u001b[39m\u001b[38;5;124m\"\u001b[39m] \u001b[38;5;241m=\u001b[39m kwds[\u001b[38;5;124m\"\u001b[39m\u001b[38;5;124mhas_index_names\u001b[39m\u001b[38;5;124m\"\u001b[39m]\n\u001b[0;32m   1619\u001b[0m \u001b[38;5;28mself\u001b[39m\u001b[38;5;241m.\u001b[39mhandles: IOHandles \u001b[38;5;241m|\u001b[39m \u001b[38;5;28;01mNone\u001b[39;00m \u001b[38;5;241m=\u001b[39m \u001b[38;5;28;01mNone\u001b[39;00m\n\u001b[1;32m-> 1620\u001b[0m \u001b[38;5;28mself\u001b[39m\u001b[38;5;241m.\u001b[39m_engine \u001b[38;5;241m=\u001b[39m \u001b[38;5;28;43mself\u001b[39;49m\u001b[38;5;241;43m.\u001b[39;49m\u001b[43m_make_engine\u001b[49m\u001b[43m(\u001b[49m\u001b[43mf\u001b[49m\u001b[43m,\u001b[49m\u001b[43m \u001b[49m\u001b[38;5;28;43mself\u001b[39;49m\u001b[38;5;241;43m.\u001b[39;49m\u001b[43mengine\u001b[49m\u001b[43m)\u001b[49m\n",
      "File \u001b[1;32m~\\AppData\\Local\\Packages\\PythonSoftwareFoundation.Python.3.12_qbz5n2kfra8p0\\LocalCache\\local-packages\\Python312\\site-packages\\pandas\\io\\parsers\\readers.py:1880\u001b[0m, in \u001b[0;36mTextFileReader._make_engine\u001b[1;34m(self, f, engine)\u001b[0m\n\u001b[0;32m   1878\u001b[0m     \u001b[38;5;28;01mif\u001b[39;00m \u001b[38;5;124m\"\u001b[39m\u001b[38;5;124mb\u001b[39m\u001b[38;5;124m\"\u001b[39m \u001b[38;5;129;01mnot\u001b[39;00m \u001b[38;5;129;01min\u001b[39;00m mode:\n\u001b[0;32m   1879\u001b[0m         mode \u001b[38;5;241m+\u001b[39m\u001b[38;5;241m=\u001b[39m \u001b[38;5;124m\"\u001b[39m\u001b[38;5;124mb\u001b[39m\u001b[38;5;124m\"\u001b[39m\n\u001b[1;32m-> 1880\u001b[0m \u001b[38;5;28mself\u001b[39m\u001b[38;5;241m.\u001b[39mhandles \u001b[38;5;241m=\u001b[39m \u001b[43mget_handle\u001b[49m\u001b[43m(\u001b[49m\n\u001b[0;32m   1881\u001b[0m \u001b[43m    \u001b[49m\u001b[43mf\u001b[49m\u001b[43m,\u001b[49m\n\u001b[0;32m   1882\u001b[0m \u001b[43m    \u001b[49m\u001b[43mmode\u001b[49m\u001b[43m,\u001b[49m\n\u001b[0;32m   1883\u001b[0m \u001b[43m    \u001b[49m\u001b[43mencoding\u001b[49m\u001b[38;5;241;43m=\u001b[39;49m\u001b[38;5;28;43mself\u001b[39;49m\u001b[38;5;241;43m.\u001b[39;49m\u001b[43moptions\u001b[49m\u001b[38;5;241;43m.\u001b[39;49m\u001b[43mget\u001b[49m\u001b[43m(\u001b[49m\u001b[38;5;124;43m\"\u001b[39;49m\u001b[38;5;124;43mencoding\u001b[39;49m\u001b[38;5;124;43m\"\u001b[39;49m\u001b[43m,\u001b[49m\u001b[43m \u001b[49m\u001b[38;5;28;43;01mNone\u001b[39;49;00m\u001b[43m)\u001b[49m\u001b[43m,\u001b[49m\n\u001b[0;32m   1884\u001b[0m \u001b[43m    \u001b[49m\u001b[43mcompression\u001b[49m\u001b[38;5;241;43m=\u001b[39;49m\u001b[38;5;28;43mself\u001b[39;49m\u001b[38;5;241;43m.\u001b[39;49m\u001b[43moptions\u001b[49m\u001b[38;5;241;43m.\u001b[39;49m\u001b[43mget\u001b[49m\u001b[43m(\u001b[49m\u001b[38;5;124;43m\"\u001b[39;49m\u001b[38;5;124;43mcompression\u001b[39;49m\u001b[38;5;124;43m\"\u001b[39;49m\u001b[43m,\u001b[49m\u001b[43m \u001b[49m\u001b[38;5;28;43;01mNone\u001b[39;49;00m\u001b[43m)\u001b[49m\u001b[43m,\u001b[49m\n\u001b[0;32m   1885\u001b[0m \u001b[43m    \u001b[49m\u001b[43mmemory_map\u001b[49m\u001b[38;5;241;43m=\u001b[39;49m\u001b[38;5;28;43mself\u001b[39;49m\u001b[38;5;241;43m.\u001b[39;49m\u001b[43moptions\u001b[49m\u001b[38;5;241;43m.\u001b[39;49m\u001b[43mget\u001b[49m\u001b[43m(\u001b[49m\u001b[38;5;124;43m\"\u001b[39;49m\u001b[38;5;124;43mmemory_map\u001b[39;49m\u001b[38;5;124;43m\"\u001b[39;49m\u001b[43m,\u001b[49m\u001b[43m \u001b[49m\u001b[38;5;28;43;01mFalse\u001b[39;49;00m\u001b[43m)\u001b[49m\u001b[43m,\u001b[49m\n\u001b[0;32m   1886\u001b[0m \u001b[43m    \u001b[49m\u001b[43mis_text\u001b[49m\u001b[38;5;241;43m=\u001b[39;49m\u001b[43mis_text\u001b[49m\u001b[43m,\u001b[49m\n\u001b[0;32m   1887\u001b[0m \u001b[43m    \u001b[49m\u001b[43merrors\u001b[49m\u001b[38;5;241;43m=\u001b[39;49m\u001b[38;5;28;43mself\u001b[39;49m\u001b[38;5;241;43m.\u001b[39;49m\u001b[43moptions\u001b[49m\u001b[38;5;241;43m.\u001b[39;49m\u001b[43mget\u001b[49m\u001b[43m(\u001b[49m\u001b[38;5;124;43m\"\u001b[39;49m\u001b[38;5;124;43mencoding_errors\u001b[39;49m\u001b[38;5;124;43m\"\u001b[39;49m\u001b[43m,\u001b[49m\u001b[43m \u001b[49m\u001b[38;5;124;43m\"\u001b[39;49m\u001b[38;5;124;43mstrict\u001b[39;49m\u001b[38;5;124;43m\"\u001b[39;49m\u001b[43m)\u001b[49m\u001b[43m,\u001b[49m\n\u001b[0;32m   1888\u001b[0m \u001b[43m    \u001b[49m\u001b[43mstorage_options\u001b[49m\u001b[38;5;241;43m=\u001b[39;49m\u001b[38;5;28;43mself\u001b[39;49m\u001b[38;5;241;43m.\u001b[39;49m\u001b[43moptions\u001b[49m\u001b[38;5;241;43m.\u001b[39;49m\u001b[43mget\u001b[49m\u001b[43m(\u001b[49m\u001b[38;5;124;43m\"\u001b[39;49m\u001b[38;5;124;43mstorage_options\u001b[39;49m\u001b[38;5;124;43m\"\u001b[39;49m\u001b[43m,\u001b[49m\u001b[43m \u001b[49m\u001b[38;5;28;43;01mNone\u001b[39;49;00m\u001b[43m)\u001b[49m\u001b[43m,\u001b[49m\n\u001b[0;32m   1889\u001b[0m \u001b[43m\u001b[49m\u001b[43m)\u001b[49m\n\u001b[0;32m   1890\u001b[0m \u001b[38;5;28;01massert\u001b[39;00m \u001b[38;5;28mself\u001b[39m\u001b[38;5;241m.\u001b[39mhandles \u001b[38;5;129;01mis\u001b[39;00m \u001b[38;5;129;01mnot\u001b[39;00m \u001b[38;5;28;01mNone\u001b[39;00m\n\u001b[0;32m   1891\u001b[0m f \u001b[38;5;241m=\u001b[39m \u001b[38;5;28mself\u001b[39m\u001b[38;5;241m.\u001b[39mhandles\u001b[38;5;241m.\u001b[39mhandle\n",
      "File \u001b[1;32m~\\AppData\\Local\\Packages\\PythonSoftwareFoundation.Python.3.12_qbz5n2kfra8p0\\LocalCache\\local-packages\\Python312\\site-packages\\pandas\\io\\common.py:873\u001b[0m, in \u001b[0;36mget_handle\u001b[1;34m(path_or_buf, mode, encoding, compression, memory_map, is_text, errors, storage_options)\u001b[0m\n\u001b[0;32m    868\u001b[0m \u001b[38;5;28;01melif\u001b[39;00m \u001b[38;5;28misinstance\u001b[39m(handle, \u001b[38;5;28mstr\u001b[39m):\n\u001b[0;32m    869\u001b[0m     \u001b[38;5;66;03m# Check whether the filename is to be opened in binary mode.\u001b[39;00m\n\u001b[0;32m    870\u001b[0m     \u001b[38;5;66;03m# Binary mode does not support 'encoding' and 'newline'.\u001b[39;00m\n\u001b[0;32m    871\u001b[0m     \u001b[38;5;28;01mif\u001b[39;00m ioargs\u001b[38;5;241m.\u001b[39mencoding \u001b[38;5;129;01mand\u001b[39;00m \u001b[38;5;124m\"\u001b[39m\u001b[38;5;124mb\u001b[39m\u001b[38;5;124m\"\u001b[39m \u001b[38;5;129;01mnot\u001b[39;00m \u001b[38;5;129;01min\u001b[39;00m ioargs\u001b[38;5;241m.\u001b[39mmode:\n\u001b[0;32m    872\u001b[0m         \u001b[38;5;66;03m# Encoding\u001b[39;00m\n\u001b[1;32m--> 873\u001b[0m         handle \u001b[38;5;241m=\u001b[39m \u001b[38;5;28;43mopen\u001b[39;49m\u001b[43m(\u001b[49m\n\u001b[0;32m    874\u001b[0m \u001b[43m            \u001b[49m\u001b[43mhandle\u001b[49m\u001b[43m,\u001b[49m\n\u001b[0;32m    875\u001b[0m \u001b[43m            \u001b[49m\u001b[43mioargs\u001b[49m\u001b[38;5;241;43m.\u001b[39;49m\u001b[43mmode\u001b[49m\u001b[43m,\u001b[49m\n\u001b[0;32m    876\u001b[0m \u001b[43m            \u001b[49m\u001b[43mencoding\u001b[49m\u001b[38;5;241;43m=\u001b[39;49m\u001b[43mioargs\u001b[49m\u001b[38;5;241;43m.\u001b[39;49m\u001b[43mencoding\u001b[49m\u001b[43m,\u001b[49m\n\u001b[0;32m    877\u001b[0m \u001b[43m            \u001b[49m\u001b[43merrors\u001b[49m\u001b[38;5;241;43m=\u001b[39;49m\u001b[43merrors\u001b[49m\u001b[43m,\u001b[49m\n\u001b[0;32m    878\u001b[0m \u001b[43m            \u001b[49m\u001b[43mnewline\u001b[49m\u001b[38;5;241;43m=\u001b[39;49m\u001b[38;5;124;43m\"\u001b[39;49m\u001b[38;5;124;43m\"\u001b[39;49m\u001b[43m,\u001b[49m\n\u001b[0;32m    879\u001b[0m \u001b[43m        \u001b[49m\u001b[43m)\u001b[49m\n\u001b[0;32m    880\u001b[0m     \u001b[38;5;28;01melse\u001b[39;00m:\n\u001b[0;32m    881\u001b[0m         \u001b[38;5;66;03m# Binary mode\u001b[39;00m\n\u001b[0;32m    882\u001b[0m         handle \u001b[38;5;241m=\u001b[39m \u001b[38;5;28mopen\u001b[39m(handle, ioargs\u001b[38;5;241m.\u001b[39mmode)\n",
      "\u001b[1;31mFileNotFoundError\u001b[0m: [Errno 2] No such file or directory: 'c:\\\\Users\\\\jyang8\\\\MUSE_models\\\\MUSE_UK_Buildings\\\\MUSE_Files\\\\Buildings\\\\single_agents\\\\Technodata.csv'"
     ]
    }
   ],
   "source": [
    "# Load the CSV file into a Pandas DataFrame\n",
    "df = pd.read_csv(data_folder / 'Technodata.csv')\n",
    "unit_row = df.iloc[[0]]\n",
    "df = df.iloc[1:].reset_index(drop=True)"
   ]
  },
  {
   "cell_type": "code",
   "execution_count": null,
   "metadata": {},
   "outputs": [],
   "source": [
    "# Define the columns to group by (all except 'ProcessName' and 'MaxCapacityAddition')\n",
    "group_by_columns = [col for col in df.columns if col not in ['ProcessName', 'MaxCapacityAddition']]\n",
    "\n",
    "# Group the DataFrame based on similarity of all columns except 'ProcessName' and 'MaxCapacityAddition'\n",
    "grouped_tech = df.groupby(group_by_columns, as_index=False).agg({\n",
    "    'ProcessName': lambda x: '; '.join(x),\n",
    "    'MaxCapacityAddition': lambda x: max(pd.to_numeric(x, errors='coerce'))\n",
    "})\n",
    "\n",
    "# Create a mapping dictionary to track which original rows were combined\n",
    "process_name_mapping = {}\n",
    "\n",
    "# Iterate over groups in the grouped DataFrame\n",
    "for combined_index, group in grouped_tech.iterrows():\n",
    "    # Combined ProcessName in the grouped DataFrame\n",
    "    combined_process_name = group['ProcessName']\n",
    "    \n",
    "    # Find matching rows in the original DataFrame based on all other columns\n",
    "    matching_rows = df[\n",
    "        (df[group_by_columns] == group[group_by_columns]).all(axis=1)\n",
    "    ]\n",
    "    \n",
    "    # Original ProcessNames from the matching rows\n",
    "    original_process_names = matching_rows['ProcessName'].tolist()\n",
    "    \n",
    "    # Map the combined ProcessName to the original ProcessNames\n",
    "    process_name_mapping[combined_process_name] = original_process_names\n",
    "\n",
    "\n",
    "# put \"ProcessName\" as the first column\n",
    "grouped_tech = reorder_columns(grouped_tech, \"ProcessName\")\n",
    "# re-add the unit row\n",
    "grouped_tech = pd.concat([unit_row, grouped_tech], ignore_index=True)\n",
    "\n",
    "# Save the grouped DataFrame to a new CSV file\n",
    "grouped_tech.to_csv(output_folder / 'Technodata.csv', index=False)\n",
    "\n"
   ]
  },
  {
   "cell_type": "markdown",
   "metadata": {},
   "source": [
    "Second, proccess the ExistingCapacity.csv"
   ]
  },
  {
   "cell_type": "code",
   "execution_count": null,
   "metadata": {},
   "outputs": [],
   "source": [
    "# Function to map the ProcessName column using the process_name_mapping\n",
    "def map_process_name(process_name):\n",
    "    for combined_name, original_names in process_name_mapping.items():\n",
    "        if process_name in original_names:\n",
    "            return combined_name\n",
    "    return process_name  # Return the original name if no match is found"
   ]
  },
  {
   "cell_type": "code",
   "execution_count": null,
   "metadata": {},
   "outputs": [],
   "source": [
    "# read the existing capacity file\n",
    "ExistingCapacity_df = pd.read_csv(data_folder / 'ExistingCapacity.csv')\n",
    "\n",
    "# Apply the mapping to the ProcessName column in the new DataFrame\n",
    "ExistingCapacity_df['ProcessName']= ExistingCapacity_df['ProcessName'].apply(map_process_name)\n",
    "\n",
    "# Identify numerical columns and other relevant columns\n",
    "numerical_columns = [col for col in ExistingCapacity_df.columns if col not in ['ProcessName', 'RegionName', 'Unit']]\n",
    "non_numerical_columns = ['RegionName', 'Unit']\n",
    "\n",
    "# Group by 'ProcessName' and aggregate\n",
    "ExistingCapacity_df = ExistingCapacity_df.groupby('ProcessName', as_index=False).agg(\n",
    "    {**{col: 'sum' for col in numerical_columns}, **{col: 'first' for col in non_numerical_columns}}\n",
    ")\n",
    "\n",
    "# save the file\n",
    "ExistingCapacity_df.to_csv(output_folder / 'ExistingCapacity.csv', index=False)"
   ]
  },
  {
   "cell_type": "markdown",
   "metadata": {},
   "source": [
    "CommIn.csv and CommOut.csv"
   ]
  },
  {
   "cell_type": "code",
   "execution_count": null,
   "metadata": {},
   "outputs": [
    {
     "name": "stdout",
     "output_type": "stream",
     "text": [
      "CommIn.csv saved successfully\n",
      "CommOut.csv saved successfully\n"
     ]
    }
   ],
   "source": [
    "for file in ['CommIn.csv', 'CommOut.csv']:\n",
    "    # read the CommIn file\n",
    "    df = pd.read_csv(data_folder / file)\n",
    "\n",
    "    # seperate the annoying unit row, (will be added back later)\n",
    "    unit_row = df.iloc[[0]]\n",
    "\n",
    "    # the actual data\n",
    "    data = df.iloc[1:].reset_index(drop=True)\n",
    "\n",
    "    # Identify numerical columns for averaging (exclude non-numerical columns)\n",
    "    exclude_columns = ['ProcessName', 'RegionName', 'Time']\n",
    "    if 'Level' in data.columns:\n",
    "        exclude_columns.append('Level')\n",
    "    numerical_columns = [col for col in data.columns if col not in exclude_columns]\n",
    "    non_numerical_columns = [col for col in exclude_columns if col in data.columns]\n",
    "\n",
    "    # Convert numerical columns to numeric, coercing errors to NaN\n",
    "    for col in numerical_columns:\n",
    "        data[col] = pd.to_numeric(data[col], errors='coerce')\n",
    "\n",
    "    # Apply the mapping to the ProcessName column in the new DataFrame\n",
    "    data['ProcessName']= data['ProcessName'].apply(map_process_name)\n",
    "\n",
    "    # Group by 'ProcessName' and aggregate\n",
    "    combined_rows = data.groupby('ProcessName', as_index=False).agg(\n",
    "        {**{col: 'mean' for col in numerical_columns}, **{col: 'first' for col in non_numerical_columns}}\n",
    "    )\n",
    "    \n",
    "    # add the unit row back\n",
    "    combined_rows = pd.concat([unit_row, combined_rows], ignore_index=True)\n",
    "    \n",
    "    # save the file\n",
    "    combined_rows.to_csv(output_folder / file, index=False)\n",
    "\n",
    "    print(f\"{file} saved successfully\")\n"
   ]
  },
  {
   "cell_type": "markdown",
   "metadata": {},
   "source": [
    "TechnodataTimeslices.csv"
   ]
  },
  {
   "cell_type": "code",
   "execution_count": null,
   "metadata": {},
   "outputs": [],
   "source": [
    "TechnodataTimeslices = pd.read_csv(data_folder / 'TechnodataTimeslices.csv')\n",
    "# Apply the mapping to the ProcessName column in the new DataFrame\n",
    "TechnodataTimeslices ['ProcessName']= TechnodataTimeslices ['ProcessName'].apply(map_process_name)\n",
    "\n",
    "# Group by the specified columns and compute the average for target columns\n",
    "group_columns = ['ProcessName', 'RegionName', 'Time', 'season', 'period']\n",
    "average_columns = ['UtilizationFactor', 'MinimumServiceFactor']\n",
    "\n",
    "# Combine rows and compute averages\n",
    "TechnodataTimeslices = TechnodataTimeslices.groupby(group_columns, as_index=False).agg(\n",
    "    {col: 'mean' for col in average_columns}\n",
    ")\n",
    "\n",
    "TechnodataTimeslices.to_csv(output_folder / 'TechnodataTimeslices.csv', index=False)"
   ]
  },
  {
   "cell_type": "markdown",
   "metadata": {},
   "source": [
    "Other MUSE MUSE input files will be same, so we just need to copy it over here"
   ]
  },
  {
   "cell_type": "code",
   "execution_count": null,
   "metadata": {},
   "outputs": [
    {
     "name": "stdout",
     "output_type": "stream",
     "text": [
      "Copied: c:\\Users\\jyang8\\MUSE_models\\MUSE_UK_Buildings\\MUSE_Files\\Buildings\\single_agent\\Agents.csv to c:\\Users\\jyang8\\MUSE_models\\MUSE_UK_Buildings\\MUSE_Files\\Buildings\\tech_reduced\\single_agent\\Agents.csv\n",
      "Copied: c:\\Users\\jyang8\\MUSE_models\\MUSE_UK_Buildings\\MUSE_Files\\Buildings\\single_agent\\Consumption2010.csv to c:\\Users\\jyang8\\MUSE_models\\MUSE_UK_Buildings\\MUSE_Files\\Buildings\\tech_reduced\\single_agent\\Consumption2010.csv\n",
      "Copied: c:\\Users\\jyang8\\MUSE_models\\MUSE_UK_Buildings\\MUSE_Files\\Buildings\\single_agent\\Consumption2020.csv to c:\\Users\\jyang8\\MUSE_models\\MUSE_UK_Buildings\\MUSE_Files\\Buildings\\tech_reduced\\single_agent\\Consumption2020.csv\n",
      "Copied: c:\\Users\\jyang8\\MUSE_models\\MUSE_UK_Buildings\\MUSE_Files\\Buildings\\single_agent\\Consumption2030.csv to c:\\Users\\jyang8\\MUSE_models\\MUSE_UK_Buildings\\MUSE_Files\\Buildings\\tech_reduced\\single_agent\\Consumption2030.csv\n",
      "Copied: c:\\Users\\jyang8\\MUSE_models\\MUSE_UK_Buildings\\MUSE_Files\\Buildings\\single_agent\\Consumption2040.csv to c:\\Users\\jyang8\\MUSE_models\\MUSE_UK_Buildings\\MUSE_Files\\Buildings\\tech_reduced\\single_agent\\Consumption2040.csv\n",
      "Copied: c:\\Users\\jyang8\\MUSE_models\\MUSE_UK_Buildings\\MUSE_Files\\Buildings\\single_agent\\Consumption2050.csv to c:\\Users\\jyang8\\MUSE_models\\MUSE_UK_Buildings\\MUSE_Files\\Buildings\\tech_reduced\\single_agent\\Consumption2050.csv\n",
      "Copied: c:\\Users\\jyang8\\MUSE_models\\MUSE_UK_Buildings\\MUSE_Files\\Buildings\\single_agent\\GlobalCommodities.csv to c:\\Users\\jyang8\\MUSE_models\\MUSE_UK_Buildings\\MUSE_Files\\Buildings\\tech_reduced\\single_agent\\GlobalCommodities.csv\n",
      "Copied: c:\\Users\\jyang8\\MUSE_models\\MUSE_UK_Buildings\\MUSE_Files\\Buildings\\single_agent\\Projections.csv to c:\\Users\\jyang8\\MUSE_models\\MUSE_UK_Buildings\\MUSE_Files\\Buildings\\tech_reduced\\single_agent\\Projections.csv\n",
      "copy operation completed.\n"
     ]
    }
   ],
   "source": [
    "# Define the source directory (one level up)\n",
    "source_dir = data_folder\n",
    "\n",
    "# Define the destination directory (current working directory)\n",
    "destination_dir = output_folder\n",
    "\n",
    "# Ensure the destination directory exists\n",
    "destination_dir.mkdir(exist_ok=True)\n",
    "\n",
    "# Iterate through CSV files in the source directory\n",
    "for file in source_dir.glob(\"*.csv\"):  # Matches all CSV files in the source directory\n",
    "    destination_path = destination_dir / file.name\n",
    "    \n",
    "    # Check if the file already exists in the current directory\n",
    "    if not destination_path.exists():\n",
    "        # Copy the file if it doesn't exist\n",
    "        shutil.copy(file, destination_path)\n",
    "        print(f\"Copied: {file} to {destination_path}\")\n",
    "    #else:\n",
    "        #print(f\"File already exists: {destination_path}\")\n",
    "\n",
    "# Copy the TOML file\n",
    "toml_file = next(source_dir.glob(\"*.toml\"), None)  # Get the first (and only) .toml file\n",
    "if toml_file:\n",
    "    destination_path = destination_dir / toml_file.name\n",
    "    if not destination_path.exists():\n",
    "        shutil.copy(toml_file, destination_path)\n",
    "        print(f\"Copied TOML: {toml_file} to {destination_path}\")\n",
    "    else:\n",
    "        print(f\"TOML already exists: {destination_path}\")\n",
    "\n",
    "print(\"copy operation completed.\")"
   ]
  },
  {
   "cell_type": "markdown",
   "metadata": {},
   "source": [
    "====================================END==================================="
   ]
  }
 ],
 "metadata": {
  "kernelspec": {
   "display_name": "Python 3",
   "language": "python",
   "name": "python3"
  },
  "language_info": {
   "codemirror_mode": {
    "name": "ipython",
    "version": 3
   },
   "file_extension": ".py",
   "mimetype": "text/x-python",
   "name": "python",
   "nbconvert_exporter": "python",
   "pygments_lexer": "ipython3",
   "version": "3.12.4"
  }
 },
 "nbformat": 4,
 "nbformat_minor": 2
}
