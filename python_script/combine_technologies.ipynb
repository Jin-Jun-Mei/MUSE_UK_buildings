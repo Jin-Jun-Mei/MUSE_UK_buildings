{
 "cells": [
  {
   "cell_type": "markdown",
   "metadata": {},
   "source": [
    "There are (too) many technologies in the original technodata.csv. This can potentially take too long to run.\n",
    "Here we reduce the number of technologies by combine similar technologies."
   ]
  },
  {
   "cell_type": "markdown",
   "metadata": {},
   "source": []
  }
 ],
 "metadata": {
  "language_info": {
   "name": "python"
  }
 },
 "nbformat": 4,
 "nbformat_minor": 2
}
