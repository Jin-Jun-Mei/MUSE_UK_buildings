{
 "cells": [
  {
   "cell_type": "markdown",
   "metadata": {},
   "source": [
    "### This Python script combines the Residential and Services sectors into one, a.k.a, the Building sector.\n",
    "### The following csv files from each of the two sectors will be combined: \n",
    "   * 1. \"Consumption*.csv\"\n",
    "   * 2. \"TechnodataTimeslices.csv\" \n",
    "   * 3. \"Technodata.csv\"\n",
    "   * 4. \"GlobalCommodities.csv\"\n",
    "   * 5. \"CommIn.csv\" \n",
    "   * 6.  \"CommOut.csv\"\n",
    "   * 7. \"Projections.csv\"\n",
    "   * 8. \"ExistingCapacity.csv\" \n",
    "   * 9. \"Agent.csv\" (**) "
   ]
  },
  {
   "cell_type": "markdown",
   "metadata": {},
   "source": [
    "==============================================================="
   ]
  },
  {
   "cell_type": "code",
   "execution_count": 18,
   "metadata": {},
   "outputs": [
    {
     "name": "stdout",
     "output_type": "stream",
     "text": [
      "The autoreload extension is already loaded. To reload it, use:\n",
      "  %reload_ext autoreload\n"
     ]
    }
   ],
   "source": [
    "%load_ext autoreload\n",
    "%autoreload 2"
   ]
  },
  {
   "cell_type": "code",
   "execution_count": 19,
   "metadata": {},
   "outputs": [],
   "source": [
    "import pandas as pd\n",
    "from pathlib import Path\n",
    "import os\n",
    "# import numpy as np\n",
    "# import shutil # for moving/copying files"
   ]
  },
  {
   "cell_type": "markdown",
   "metadata": {},
   "source": [
    "In order to combine these CSV files, we import 3 functions:\n",
    "- merge_by_column\n",
    "- merge_by_row\n",
    "- merge_by_column_and_row"
   ]
  },
  {
   "cell_type": "code",
   "execution_count": 20,
   "metadata": {},
   "outputs": [],
   "source": [
    "from help_functions import merge_by_column,merge_by_row,merge_by_column_and_row"
   ]
  },
  {
   "cell_type": "markdown",
   "metadata": {},
   "source": [
    "## Locate data folders that will be used for merge"
   ]
  },
  {
   "cell_type": "code",
   "execution_count": 21,
   "metadata": {},
   "outputs": [],
   "source": [
    "# Get the current working directory\n",
    "current_dir = Path(os.getcwd())"
   ]
  },
  {
   "cell_type": "markdown",
   "metadata": {},
   "source": [
    "choose which version we want to combinw (single agent or multi-agents)"
   ]
  },
  {
   "cell_type": "code",
   "execution_count": 22,
   "metadata": {},
   "outputs": [
    {
     "name": "stdout",
     "output_type": "stream",
     "text": [
      "Residential folder path: c:\\Users\\jyang8\\MUSE_models\\MUSE_buildings\\Residential\\MUSE_Files\\Ofgem_agents\n",
      "Service folder path: c:\\Users\\jyang8\\MUSE_models\\MUSE_buildings\\Service\\MUSE_Files\n",
      "Output folder path: c:\\Users\\jyang8\\MUSE_models\\MUSE_buildings\\Buildings\\MUSE_Files\\Ofgem_agents\n"
     ]
    }
   ],
   "source": [
    "# Define the supported versions\n",
    "SUPPORTED_VERSIONS = ['single_agent', 'Ofgem_agents']\n",
    "\n",
    "# Set the version (should be one of the SUPPORTED_VERSIONS)\n",
    "version = SUPPORTED_VERSIONS[1]  # Change this to your desired version\n",
    "\n",
    "# Load the Ofgem data\n",
    "\n",
    "# Define paths relative to the current working directory\n",
    "residential_folder = current_dir.parent / 'Residential' / 'MUSE_Files'/ version # Adjust as needed depending on the location of your notebook\n",
    "\n",
    "service_folder = current_dir.parent / 'Service' / 'MUSE_Files'\n",
    "output_folder = current_dir .parent / 'Buildings'/ 'MUSE_Files'/ version\n",
    "\n",
    "# Ensure the output folder exists, and create it if it doesn't\n",
    "output_folder.mkdir(parents=True, exist_ok=True)\n",
    "\n",
    "# Print paths to confirm\n",
    "print(f\"Residential folder path: {residential_folder}\")\n",
    "print(f\"Service folder path: {service_folder}\")\n",
    "print(f\"Output folder path: {output_folder}\")\n"
   ]
  },
  {
   "cell_type": "markdown",
   "metadata": {},
   "source": [
    "## Merge  \"Consumption*.csv\""
   ]
  },
  {
   "cell_type": "code",
   "execution_count": 23,
   "metadata": {},
   "outputs": [
    {
     "name": "stdout",
     "output_type": "stream",
     "text": [
      "Merged files saved to c:\\Users\\jyang8\\MUSE_models\\MUSE_buildings\\Buildings\\MUSE_Files\\Ofgem_agents\\Consumption2010.csv\n",
      "Merged files saved to c:\\Users\\jyang8\\MUSE_models\\MUSE_buildings\\Buildings\\MUSE_Files\\Ofgem_agents\\Consumption2020.csv\n",
      "Merged files saved to c:\\Users\\jyang8\\MUSE_models\\MUSE_buildings\\Buildings\\MUSE_Files\\Ofgem_agents\\Consumption2030.csv\n",
      "Merged files saved to c:\\Users\\jyang8\\MUSE_models\\MUSE_buildings\\Buildings\\MUSE_Files\\Ofgem_agents\\Consumption2040.csv\n",
      "Merged files saved to c:\\Users\\jyang8\\MUSE_models\\MUSE_buildings\\Buildings\\MUSE_Files\\Ofgem_agents\\Consumption2050.csv\n"
     ]
    }
   ],
   "source": [
    "# column name to merge on\n",
    "column_name = 'Timeslice'\n",
    "\n",
    "# List all CSV files in the residential folder starting with \"Consumption\"\n",
    "residential_files = [f for f in residential_folder.iterdir() if f.name.startswith(\"Consumption\") and f.suffix == '.csv']\n",
    "\n",
    "# Loop over each file path in residential_files and call the merge function\n",
    "for residential_file in residential_files:\n",
    "    # Derive the corresponding service file path and output file path\n",
    "    service_file = service_folder / residential_file.name\n",
    "    output_file = output_folder / residential_file.name\n",
    "    \n",
    "    # Check if the corresponding service file exists\n",
    "    if service_file.exists():\n",
    "        # Call the function to merge each pair\n",
    "        merge_by_column(residential_file, service_file, column_name, output_file)\n",
    "    else:\n",
    "        print(f\"Service file for {residential_file.name} not found in {service_folder}.\")\n"
   ]
  },
  {
   "cell_type": "markdown",
   "metadata": {},
   "source": [
    "## Merge \"TechnodataTimeslices.csv\" "
   ]
  },
  {
   "cell_type": "code",
   "execution_count": 24,
   "metadata": {},
   "outputs": [
    {
     "name": "stdout",
     "output_type": "stream",
     "text": [
      "Merged files saved to c:\\Users\\jyang8\\MUSE_models\\MUSE_buildings\\Buildings\\MUSE_Files\\Ofgem_agents\\TechnodataTimeslices.csv with duplicates removed.\n"
     ]
    }
   ],
   "source": [
    "FileName = 'TechnodataTimeslices.csv'\n",
    "TechnodataTimeslices1 = service_folder / FileName\n",
    "TechnodataTimeslices2= residential_folder / FileName\n",
    "output_file = output_folder / FileName\n",
    "\n",
    "try:\n",
    "    merge_by_row(TechnodataTimeslices1, TechnodataTimeslices2, output_file)\n",
    "except Exception:\n",
    "    print(\"Error merging TechnodataTimeslices.csv\")"
   ]
  },
  {
   "cell_type": "markdown",
   "metadata": {},
   "source": [
    "## Merge \"Technodata.csv\" "
   ]
  },
  {
   "cell_type": "code",
   "execution_count": 25,
   "metadata": {},
   "outputs": [
    {
     "name": "stdout",
     "output_type": "stream",
     "text": [
      "Merged files saved to c:\\Users\\jyang8\\MUSE_models\\MUSE_buildings\\Buildings\\MUSE_Files\\Ofgem_agents\\Technodata.csv with duplicates removed.\n"
     ]
    }
   ],
   "source": [
    "from help_functions import merge_by_row_technodata\n",
    "\n",
    "FileName = 'Technodata.csv'\n",
    "Technodata1 = service_folder / FileName\n",
    "Technodata2= residential_folder / FileName\n",
    "output_file = output_folder / FileName\n",
    "\n",
    "try:\n",
    "    merge_by_row_technodata(Technodata1, Technodata2, output_file)\n",
    "except Exception:\n",
    "    print(\"Error merging Technodata.csv\")"
   ]
  },
  {
   "cell_type": "markdown",
   "metadata": {},
   "source": [
    "## Merge \"GlobalCommodities.csv\""
   ]
  },
  {
   "cell_type": "code",
   "execution_count": 26,
   "metadata": {},
   "outputs": [
    {
     "name": "stdout",
     "output_type": "stream",
     "text": [
      "Merged files saved to c:\\Users\\jyang8\\MUSE_models\\MUSE_buildings\\Buildings\\MUSE_Files\\Ofgem_agents\\GlobalCommodities.csv with duplicates removed.\n"
     ]
    }
   ],
   "source": [
    "FileName = 'GlobalCommodities.csv'\n",
    "GlobalCommodities1 = service_folder / FileName\n",
    "GlobalCommodities2= residential_folder / FileName\n",
    "output_file = output_folder / FileName\n",
    "\n",
    "try:\n",
    "    merge_by_row(GlobalCommodities1, GlobalCommodities2, output_file)\n",
    "except Exception:\n",
    "    print(\"Error merging GlobalCommodities.csv\")"
   ]
  },
  {
   "cell_type": "markdown",
   "metadata": {},
   "source": [
    "## Merge \"CommIn.csv\" "
   ]
  },
  {
   "cell_type": "code",
   "execution_count": 27,
   "metadata": {},
   "outputs": [
    {
     "name": "stdout",
     "output_type": "stream",
     "text": [
      "Merged files saved to c:\\Users\\jyang8\\MUSE_models\\MUSE_buildings\\Buildings\\MUSE_Files\\Ofgem_agents\\CommIn.csv with duplicates removed, 'Unit' rows combined, and missing values filled with 0.\n"
     ]
    }
   ],
   "source": [
    "\n",
    "FileName = 'CommIn.csv'\n",
    "CommIn1 = service_folder / FileName\n",
    "CommIn2 = residential_folder / FileName\n",
    "output_file = output_folder / FileName\n",
    "\n",
    "try:\n",
    "    merge_by_column_and_row(CommIn1, CommIn2, output_file)\n",
    "except Exception:\n",
    "    print(\"Error merging CommIn.csv\")\n",
    "\n",
    "# reordering the columns in the merged file: [\"ProcessName\", \"RegionName\", \"Time\",\"Level\"] will be the first four columns\n",
    "reorder_cols = [\"ProcessName\", \"RegionName\", \"Time\",\"Level\"]\n",
    "\n",
    "merged_CommIn = pd.read_csv(output_file)[reorder_cols + [col for col in pd.read_csv(output_file).columns if col not in reorder_cols]]\n",
    "\n",
    "\n",
    "# Move the \"Unit\" row to the first position\n",
    "unit_row = merged_CommIn[merged_CommIn['ProcessName'] == 'Unit']  # Identify the \"Unit\" row\n",
    "non_unit_rows = merged_CommIn[merged_CommIn['ProcessName'] != 'Unit']  # Exclude the \"Unit\" row\n",
    "\n",
    "# Concatenate the \"Unit\" row at the top\n",
    "merged_CommIn = pd.concat([unit_row, non_unit_rows], ignore_index=True)\n",
    "\n",
    "# Save or work with the reordered DataFrame\n",
    "merged_CommIn.to_csv(output_file, index=False)\n",
    "\n",
    "\n"
   ]
  },
  {
   "cell_type": "markdown",
   "metadata": {},
   "source": [
    "## \"CommOut.csv\""
   ]
  },
  {
   "cell_type": "code",
   "execution_count": 28,
   "metadata": {},
   "outputs": [
    {
     "name": "stdout",
     "output_type": "stream",
     "text": [
      "Merged files saved to c:\\Users\\jyang8\\MUSE_models\\MUSE_buildings\\Buildings\\MUSE_Files\\Ofgem_agents\\CommOut.csv with duplicates removed, 'Unit' rows combined, and missing values filled with 0.\n"
     ]
    }
   ],
   "source": [
    "FileName = 'CommOut.csv'\n",
    "CommOut1 = service_folder / FileName\n",
    "CommOut2 = residential_folder / FileName\n",
    "output_file = output_folder / FileName\n",
    "\n",
    "try:\n",
    "    merge_by_column_and_row(CommOut1, CommOut2, output_file)\n",
    "except Exception:\n",
    "    print(\"Error merging CommOut.csv\")\n",
    "\n",
    "# Similar to the \"CommIn\", we reorder the columns in the merged file: [\"ProcessName\", \"RegionName\", \"Time\"] will be the first three columns\n",
    "# There is no \"Level\" column in this file\n",
    "reorder_cols = [\"ProcessName\", \"RegionName\", \"Time\"]\n",
    "\n",
    "merged_CommOut = pd.read_csv(output_file)[reorder_cols + [col for col in pd.read_csv(output_file).columns if col not in reorder_cols]]\n",
    "\n",
    "# Save or work with the reordered DataFrame\n",
    "merged_CommOut.to_csv(output_file, index=False)"
   ]
  },
  {
   "cell_type": "markdown",
   "metadata": {},
   "source": [
    "## \"Projections.csv\""
   ]
  },
  {
   "cell_type": "code",
   "execution_count": 29,
   "metadata": {},
   "outputs": [
    {
     "name": "stdout",
     "output_type": "stream",
     "text": [
      "Merged files saved to c:\\Users\\jyang8\\MUSE_models\\MUSE_buildings\\Buildings\\MUSE_Files\\Ofgem_agents\\Projections.csv\n"
     ]
    }
   ],
   "source": [
    "FileName = 'Projections.csv'\n",
    "Projections1 = service_folder / FileName\n",
    "Projections2 = residential_folder / FileName\n",
    "output_file = output_folder / FileName\n",
    "\n",
    "try:\n",
    "    merge_by_column(Projections1, Projections2, \"Time\", output_file) # merging based on the \"Time\" column\n",
    "except Exception:\n",
    "    print(\"Error merging Projections.csv\")"
   ]
  },
  {
   "cell_type": "markdown",
   "metadata": {},
   "source": [
    "## \"ExistingCapacity.csv\" "
   ]
  },
  {
   "cell_type": "code",
   "execution_count": 30,
   "metadata": {},
   "outputs": [
    {
     "name": "stdout",
     "output_type": "stream",
     "text": [
      "Merged files saved to c:\\Users\\jyang8\\MUSE_models\\MUSE_buildings\\Buildings\\MUSE_Files\\Ofgem_agents\\ExistingCapacity.csv with duplicates removed.\n"
     ]
    }
   ],
   "source": [
    "FileName = 'ExistingCapacity.csv'\n",
    "\n",
    "ExistingCapacity1 = service_folder / FileName\n",
    "ExistingCapacity2= residential_folder / FileName\n",
    "output_file = output_folder / FileName\n",
    "\n",
    "try:\n",
    "    merge_by_row(ExistingCapacity1, ExistingCapacity2, output_file)\n",
    "except Exception:\n",
    "    print(\"Error merging ExistingCapacity.csv\")\n",
    "\n",
    "# reordering the columns in the merged file: [\"ProcessName\", \"RegionName\", \"Unit\"] will be the first three columns (for readability)\n",
    "reorder_cols = [\"ProcessName\", \"RegionName\", \"Unit\"]\n",
    "\n",
    "merged_ExistingCapacity = pd.read_csv(output_folder / FileName)[reorder_cols + [col for col in pd.read_csv(output_folder / FileName).columns if col not in reorder_cols]]\n",
    "\n",
    "# Save \n",
    "merged_ExistingCapacity.to_csv(output_folder / FileName, index=False)"
   ]
  },
  {
   "cell_type": "markdown",
   "metadata": {},
   "source": [
    "## \"Agent.csv\" * "
   ]
  },
  {
   "cell_type": "code",
   "execution_count": 31,
   "metadata": {},
   "outputs": [
    {
     "name": "stdout",
     "output_type": "stream",
     "text": [
      "Merged files saved to c:\\Users\\jyang8\\MUSE_models\\MUSE_buildings\\Buildings\\MUSE_Files\\Ofgem_agents\\Agents.csv with duplicates removed.\n"
     ]
    }
   ],
   "source": [
    "# depending on the version, the file name will be slightly different\n",
    "if version == 'single_agent':\n",
    "    Agent1= residential_folder / 'Agent.csv'\n",
    "    Agent2= service_folder / 'Agent.csv'\n",
    "    output_file = output_folder / 'Agent.csv'\n",
    "\n",
    "elif version == 'Ofgem_agents':\n",
    "    Agent1= residential_folder /  'Agents.csv'\n",
    "    Agent2= service_folder / 'Agent.csv'\n",
    "    output_file = output_folder / 'Agents.csv'\n",
    "\n",
    "try:\n",
    "    merged_agents = merge_by_row(Agent1, Agent2, output_file)\n",
    "except Exception:\n",
    "    print(\"Error merging Agents.csv\")"
   ]
  },
  {
   "cell_type": "markdown",
   "metadata": {},
   "source": [
    "====================================END========================================="
   ]
  }
 ],
 "metadata": {
  "kernelspec": {
   "display_name": "Python 3",
   "language": "python",
   "name": "python3"
  },
  "language_info": {
   "codemirror_mode": {
    "name": "ipython",
    "version": 3
   },
   "file_extension": ".py",
   "mimetype": "text/x-python",
   "name": "python",
   "nbconvert_exporter": "python",
   "pygments_lexer": "ipython3",
   "version": "3.12.4"
  }
 },
 "nbformat": 4,
 "nbformat_minor": 2
}
