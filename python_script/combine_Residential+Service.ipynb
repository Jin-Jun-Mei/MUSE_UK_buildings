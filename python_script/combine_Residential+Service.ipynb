{
 "cells": [
  {
   "cell_type": "markdown",
   "metadata": {},
   "source": [
    "### This Python script combines the Residential and Services sectors into one, a.k.a, the Building sector.\n",
    "### The following csv files from each sector will be combined: \n",
    "   * 1. \"Consumption*.csv\"\n",
    "   * 2. \"TechnodataTimeslices.csv\" \n",
    "   * 3. \"Technodata.csv\"\n",
    "   * 4. \"GlobalCommodities.csv\"\n",
    "   * 5. \"CommIn.csv\" \n",
    "   * 6.  \"CommOut.csv\"\n",
    "   * 7. \"Projections.csv\"\n",
    "   * 8. \"ExistingCapacity.csv\" \n",
    "   * 9. \"Agent.csv\" (**) "
   ]
  },
  {
   "cell_type": "markdown",
   "metadata": {},
   "source": [
    "==============================================================="
   ]
  },
  {
   "cell_type": "code",
   "execution_count": 17,
   "metadata": {},
   "outputs": [],
   "source": [
    "import pandas as pd\n",
    "from pathlib import Path\n",
    "import os\n",
    "import numpy as np\n",
    "import shutil # for moving/copying files"
   ]
  },
  {
   "cell_type": "markdown",
   "metadata": {},
   "source": [
    "### In order to combine these CSV files, we import 3 functions:\n",
    "- merge_by_column\n",
    "- merge_by_row\n",
    "- merge_by_column_and_row"
   ]
  },
  {
   "cell_type": "code",
   "execution_count": 18,
   "metadata": {},
   "outputs": [],
   "source": [
    "from help_functions import merge_by_column,merge_by_row,merge_by_column_and_row"
   ]
  },
  {
   "cell_type": "markdown",
   "metadata": {},
   "source": [
    "## Locate data folders and files that will be used for merge"
   ]
  },
  {
   "cell_type": "code",
   "execution_count": 19,
   "metadata": {},
   "outputs": [
    {
     "name": "stdout",
     "output_type": "stream",
     "text": [
      "Residential folder path: c:\\Users\\jyang8\\MUSE_models\\MUSE_buildings\\Residential\\MUSE_Files\n",
      "Service folder path: c:\\Users\\jyang8\\MUSE_models\\MUSE_buildings\\Service\\MUSE_Files\n",
      "Output folder path: c:\\Users\\jyang8\\MUSE_models\\MUSE_buildings\\Buildings\\MUSE_Files\n"
     ]
    }
   ],
   "source": [
    "# Get the current working directory\n",
    "current_dir = Path(os.getcwd())\n",
    "\n",
    "# Define paths relative to the current working directory\n",
    "# Adjust as needed depending on the location of your notebook\n",
    "residential_folder = current_dir.parent / 'Residential' / 'MUSE_Files'\n",
    "service_folder = current_dir.parent / 'Service' / 'MUSE_Files'\n",
    "output_folder = current_dir .parent / 'Buildings'/ 'MUSE_Files'\n",
    "\n",
    "# Ensure the output folder exists, and create it if it doesn't\n",
    "output_folder.mkdir(parents=True, exist_ok=True)\n",
    "\n",
    "# Print paths to confirm\n",
    "print(f\"Residential folder path: {residential_folder}\")\n",
    "print(f\"Service folder path: {service_folder}\")\n",
    "print(f\"Output folder path: {output_folder}\")\n"
   ]
  },
  {
   "cell_type": "markdown",
   "metadata": {},
   "source": [
    "## Merge  \"Consumption*.csv\""
   ]
  },
  {
   "cell_type": "code",
   "execution_count": 20,
   "metadata": {},
   "outputs": [
    {
     "name": "stdout",
     "output_type": "stream",
     "text": [
      "Merged files saved to c:\\Users\\jyang8\\MUSE_models\\MUSE_buildings\\Buildings\\MUSE_Files\\Consumption2010.csv\n",
      "Merged files saved to c:\\Users\\jyang8\\MUSE_models\\MUSE_buildings\\Buildings\\MUSE_Files\\Consumption2020.csv\n",
      "Merged files saved to c:\\Users\\jyang8\\MUSE_models\\MUSE_buildings\\Buildings\\MUSE_Files\\Consumption2030.csv\n",
      "Merged files saved to c:\\Users\\jyang8\\MUSE_models\\MUSE_buildings\\Buildings\\MUSE_Files\\Consumption2040.csv\n",
      "Merged files saved to c:\\Users\\jyang8\\MUSE_models\\MUSE_buildings\\Buildings\\MUSE_Files\\Consumption2050.csv\n"
     ]
    }
   ],
   "source": [
    "# column name to merge on\n",
    "column_name = 'Timeslice'\n",
    "\n",
    "# List all CSV files in the residential folder starting with \"Consumption\"\n",
    "residential_files = [f for f in residential_folder.iterdir() if f.name.startswith(\"Consumption\") and f.suffix == '.csv']\n",
    "\n",
    "# Loop over each file path in residential_files and call the merge function\n",
    "for residential_file in residential_files:\n",
    "    # Derive the corresponding service file path and output file path\n",
    "    service_file = service_folder / residential_file.name\n",
    "    output_file = output_folder / residential_file.name\n",
    "    \n",
    "    # Check if the corresponding service file exists\n",
    "    if service_file.exists():\n",
    "        # Call the function to merge each pair\n",
    "        merge_by_column(residential_file, service_file, column_name, output_file)\n",
    "    else:\n",
    "        print(f\"Service file for {residential_file.name} not found in {service_folder}.\")\n"
   ]
  },
  {
   "cell_type": "markdown",
   "metadata": {},
   "source": [
    "## Merge \"TechnodataTimeslices.csv\" "
   ]
  },
  {
   "cell_type": "code",
   "execution_count": 21,
   "metadata": {},
   "outputs": [
    {
     "name": "stdout",
     "output_type": "stream",
     "text": [
      "Merged files saved to c:\\Users\\jyang8\\MUSE_models\\MUSE_buildings\\Buildings\\MUSE_Files\\TechnodataTimeslices.csv with duplicates removed.\n"
     ]
    }
   ],
   "source": [
    "FileName = 'TechnodataTimeslices.csv'\n",
    "TechnodataTimeslices1 = service_folder / FileName\n",
    "TechnodataTimeslices2= residential_folder / FileName\n",
    "output_file = output_folder / FileName\n",
    "\n",
    "merge_by_row(TechnodataTimeslices1, TechnodataTimeslices2, output_file)"
   ]
  },
  {
   "cell_type": "markdown",
   "metadata": {},
   "source": [
    "## Merge \"Technodata.csv\" "
   ]
  },
  {
   "cell_type": "code",
   "execution_count": 22,
   "metadata": {},
   "outputs": [
    {
     "name": "stdout",
     "output_type": "stream",
     "text": [
      "Merged files saved to c:\\Users\\jyang8\\MUSE_models\\MUSE_buildings\\Buildings\\MUSE_Files\\Technodata.csv with duplicates removed.\n"
     ]
    }
   ],
   "source": [
    "FileName = 'Technodata.csv'\n",
    "Technodata1 = service_folder / FileName\n",
    "Technodata2= residential_folder / FileName\n",
    "output_file = output_folder / FileName\n",
    "\n",
    "merge_by_row(Technodata1, Technodata2, output_file)"
   ]
  },
  {
   "cell_type": "markdown",
   "metadata": {},
   "source": [
    "## Merge \"GlobalCommodities.csv\""
   ]
  },
  {
   "cell_type": "code",
   "execution_count": 23,
   "metadata": {},
   "outputs": [
    {
     "name": "stdout",
     "output_type": "stream",
     "text": [
      "Merged files saved to c:\\Users\\jyang8\\MUSE_models\\MUSE_buildings\\Buildings\\MUSE_Files\\GlobalCommodities.csv with duplicates removed.\n"
     ]
    }
   ],
   "source": [
    "FileName = 'GlobalCommodities.csv'\n",
    "GlobalCommodities1 = service_folder / FileName\n",
    "GlobalCommodities2= residential_folder / FileName\n",
    "output_file = output_folder / FileName\n",
    "\n",
    "merge_by_row(GlobalCommodities1, GlobalCommodities2, output_file)"
   ]
  },
  {
   "cell_type": "markdown",
   "metadata": {},
   "source": [
    "## Merge \"CommIn.csv\" "
   ]
  },
  {
   "cell_type": "code",
   "execution_count": 24,
   "metadata": {},
   "outputs": [
    {
     "name": "stdout",
     "output_type": "stream",
     "text": [
      "Merged files saved to c:\\Users\\jyang8\\MUSE_models\\MUSE_buildings\\Buildings\\MUSE_Files\\CommIn.csv with duplicates removed, 'Unit' rows combined, and missing values filled with 0.\n"
     ]
    }
   ],
   "source": [
    "\n",
    "FileName = 'CommIn.csv'\n",
    "CommIn1 = service_folder / FileName\n",
    "CommIn2 = residential_folder / FileName\n",
    "output_file = output_folder / FileName\n",
    "\n",
    "merge_by_column_and_row(CommIn1, CommIn2, output_file)\n",
    "\n",
    "# reordering the columns in the merged file: [\"ProcessName\", \"RegionName\", \"Time\",\"Level\"] will be the first four columns\n",
    "reorder_cols = [\"ProcessName\", \"RegionName\", \"Time\",\"Level\"]\n",
    "\n",
    "merged_CommIn = pd.read_csv(output_file)[reorder_cols + [col for col in pd.read_csv(output_file).columns if col not in reorder_cols]]\n",
    "\n",
    "\n",
    "# Move the \"Unit\" row to the first position\n",
    "unit_row = merged_CommIn[merged_CommIn['ProcessName'] == 'Unit']  # Identify the \"Unit\" row\n",
    "non_unit_rows = merged_CommIn[merged_CommIn['ProcessName'] != 'Unit']  # Exclude the \"Unit\" row\n",
    "\n",
    "# Concatenate the \"Unit\" row at the top\n",
    "merged_CommIn = pd.concat([unit_row, non_unit_rows], ignore_index=True)\n",
    "\n",
    "# Save or work with the reordered DataFrame\n",
    "merged_CommIn.to_csv(output_file, index=False)\n",
    "\n",
    "\n"
   ]
  },
  {
   "cell_type": "markdown",
   "metadata": {},
   "source": [
    "## \"CommOut.csv\""
   ]
  },
  {
   "cell_type": "code",
   "execution_count": 25,
   "metadata": {},
   "outputs": [
    {
     "name": "stdout",
     "output_type": "stream",
     "text": [
      "Merged files saved to c:\\Users\\jyang8\\MUSE_models\\MUSE_buildings\\Buildings\\MUSE_Files\\CommOut.csv with duplicates removed, 'Unit' rows combined, and missing values filled with 0.\n"
     ]
    }
   ],
   "source": [
    "FileName = 'CommOut.csv'\n",
    "CommOut1 = service_folder / FileName\n",
    "CommOut2 = residential_folder / FileName\n",
    "output_file = output_folder / FileName\n",
    "\n",
    "merge_by_column_and_row(CommOut1, CommOut2, output_file)\n",
    "\n",
    "# Similar to the \"CommIn\", we reorder the columns in the merged file: [\"ProcessName\", \"RegionName\", \"Time\"] will be the first three columns\n",
    "# There is no \"Level\" column in this file\n",
    "reorder_cols = [\"ProcessName\", \"RegionName\", \"Time\"]\n",
    "\n",
    "merged_CommOut = pd.read_csv(output_file)[reorder_cols + [col for col in pd.read_csv(output_file).columns if col not in reorder_cols]]\n",
    "\n",
    "# Save or work with the reordered DataFrame\n",
    "merged_CommOut.to_csv(output_file, index=False)"
   ]
  },
  {
   "cell_type": "markdown",
   "metadata": {},
   "source": [
    "## \"Projections.csv\""
   ]
  },
  {
   "cell_type": "code",
   "execution_count": 26,
   "metadata": {},
   "outputs": [
    {
     "name": "stdout",
     "output_type": "stream",
     "text": [
      "Merged files saved to c:\\Users\\jyang8\\MUSE_models\\MUSE_buildings\\Buildings\\MUSE_Files\\Projections.csv\n"
     ]
    },
    {
     "data": {
      "text/html": [
       "<div>\n",
       "<style scoped>\n",
       "    .dataframe tbody tr th:only-of-type {\n",
       "        vertical-align: middle;\n",
       "    }\n",
       "\n",
       "    .dataframe tbody tr th {\n",
       "        vertical-align: top;\n",
       "    }\n",
       "\n",
       "    .dataframe thead th {\n",
       "        text-align: right;\n",
       "    }\n",
       "</style>\n",
       "<table border=\"1\" class=\"dataframe\">\n",
       "  <thead>\n",
       "    <tr style=\"text-align: right;\">\n",
       "      <th></th>\n",
       "      <th>RegionName</th>\n",
       "      <th>Attribute</th>\n",
       "      <th>Time</th>\n",
       "      <th>NGA</th>\n",
       "      <th>BOG</th>\n",
       "      <th>BIOMASS</th>\n",
       "      <th>ELC</th>\n",
       "      <th>OIL</th>\n",
       "      <th>HCO</th>\n",
       "      <th>LFO</th>\n",
       "      <th>...</th>\n",
       "      <th>RES.COOLING</th>\n",
       "      <th>RES.COMPUTERS</th>\n",
       "      <th>RES.REFRIGERATORS</th>\n",
       "      <th>RES.LIGHTING</th>\n",
       "      <th>RES.OTHER</th>\n",
       "      <th>RES.WET.APPLIANCES</th>\n",
       "      <th>RES.SPACE-HEAT.EXISTING-AVERAGE</th>\n",
       "      <th>RES.SPACE-HEAT.NEW-AVERAGE</th>\n",
       "      <th>RES.HOT-WATER.EXISTING-AVERAGE</th>\n",
       "      <th>RES.HOT-WATER.NEW-AVERAGE</th>\n",
       "    </tr>\n",
       "  </thead>\n",
       "  <tbody>\n",
       "    <tr>\n",
       "      <th>0</th>\n",
       "      <td>UK</td>\n",
       "      <td>CommodityPrice</td>\n",
       "      <td>2010</td>\n",
       "      <td>12.552000</td>\n",
       "      <td>0</td>\n",
       "      <td>10.019000</td>\n",
       "      <td>43.342675</td>\n",
       "      <td>19.794434</td>\n",
       "      <td>19.794434</td>\n",
       "      <td>19.794434</td>\n",
       "      <td>...</td>\n",
       "      <td>0</td>\n",
       "      <td>0</td>\n",
       "      <td>0</td>\n",
       "      <td>0</td>\n",
       "      <td>0</td>\n",
       "      <td>0</td>\n",
       "      <td>0</td>\n",
       "      <td>0</td>\n",
       "      <td>0</td>\n",
       "      <td>0</td>\n",
       "    </tr>\n",
       "    <tr>\n",
       "      <th>1</th>\n",
       "      <td>UK</td>\n",
       "      <td>CommodityPrice</td>\n",
       "      <td>2015</td>\n",
       "      <td>12.479500</td>\n",
       "      <td>0</td>\n",
       "      <td>11.848500</td>\n",
       "      <td>45.822469</td>\n",
       "      <td>19.794434</td>\n",
       "      <td>17.903500</td>\n",
       "      <td>17.903500</td>\n",
       "      <td>...</td>\n",
       "      <td>0</td>\n",
       "      <td>0</td>\n",
       "      <td>0</td>\n",
       "      <td>0</td>\n",
       "      <td>0</td>\n",
       "      <td>0</td>\n",
       "      <td>0</td>\n",
       "      <td>0</td>\n",
       "      <td>0</td>\n",
       "      <td>0</td>\n",
       "    </tr>\n",
       "    <tr>\n",
       "      <th>2</th>\n",
       "      <td>UK</td>\n",
       "      <td>CommodityPrice</td>\n",
       "      <td>2020</td>\n",
       "      <td>11.083333</td>\n",
       "      <td>0</td>\n",
       "      <td>12.692744</td>\n",
       "      <td>57.166667</td>\n",
       "      <td>19.794434</td>\n",
       "      <td>16.748000</td>\n",
       "      <td>16.748000</td>\n",
       "      <td>...</td>\n",
       "      <td>0</td>\n",
       "      <td>0</td>\n",
       "      <td>0</td>\n",
       "      <td>0</td>\n",
       "      <td>0</td>\n",
       "      <td>0</td>\n",
       "      <td>0</td>\n",
       "      <td>0</td>\n",
       "      <td>0</td>\n",
       "      <td>0</td>\n",
       "    </tr>\n",
       "    <tr>\n",
       "      <th>3</th>\n",
       "      <td>UK</td>\n",
       "      <td>CommodityPrice</td>\n",
       "      <td>2025</td>\n",
       "      <td>11.083333</td>\n",
       "      <td>0</td>\n",
       "      <td>12.692744</td>\n",
       "      <td>57.166667</td>\n",
       "      <td>19.794434</td>\n",
       "      <td>16.748000</td>\n",
       "      <td>16.748000</td>\n",
       "      <td>...</td>\n",
       "      <td>0</td>\n",
       "      <td>0</td>\n",
       "      <td>0</td>\n",
       "      <td>0</td>\n",
       "      <td>0</td>\n",
       "      <td>0</td>\n",
       "      <td>0</td>\n",
       "      <td>0</td>\n",
       "      <td>0</td>\n",
       "      <td>0</td>\n",
       "    </tr>\n",
       "    <tr>\n",
       "      <th>4</th>\n",
       "      <td>UK</td>\n",
       "      <td>CommodityPrice</td>\n",
       "      <td>2030</td>\n",
       "      <td>11.083333</td>\n",
       "      <td>0</td>\n",
       "      <td>12.692744</td>\n",
       "      <td>57.166667</td>\n",
       "      <td>19.794434</td>\n",
       "      <td>16.748000</td>\n",
       "      <td>16.748000</td>\n",
       "      <td>...</td>\n",
       "      <td>0</td>\n",
       "      <td>0</td>\n",
       "      <td>0</td>\n",
       "      <td>0</td>\n",
       "      <td>0</td>\n",
       "      <td>0</td>\n",
       "      <td>0</td>\n",
       "      <td>0</td>\n",
       "      <td>0</td>\n",
       "      <td>0</td>\n",
       "    </tr>\n",
       "    <tr>\n",
       "      <th>5</th>\n",
       "      <td>UK</td>\n",
       "      <td>CommodityPrice</td>\n",
       "      <td>2035</td>\n",
       "      <td>11.083333</td>\n",
       "      <td>0</td>\n",
       "      <td>12.692744</td>\n",
       "      <td>57.166667</td>\n",
       "      <td>19.794434</td>\n",
       "      <td>16.748000</td>\n",
       "      <td>16.748000</td>\n",
       "      <td>...</td>\n",
       "      <td>0</td>\n",
       "      <td>0</td>\n",
       "      <td>0</td>\n",
       "      <td>0</td>\n",
       "      <td>0</td>\n",
       "      <td>0</td>\n",
       "      <td>0</td>\n",
       "      <td>0</td>\n",
       "      <td>0</td>\n",
       "      <td>0</td>\n",
       "    </tr>\n",
       "    <tr>\n",
       "      <th>6</th>\n",
       "      <td>UK</td>\n",
       "      <td>CommodityPrice</td>\n",
       "      <td>2040</td>\n",
       "      <td>11.083333</td>\n",
       "      <td>0</td>\n",
       "      <td>12.692744</td>\n",
       "      <td>57.166667</td>\n",
       "      <td>19.794434</td>\n",
       "      <td>16.748000</td>\n",
       "      <td>16.748000</td>\n",
       "      <td>...</td>\n",
       "      <td>0</td>\n",
       "      <td>0</td>\n",
       "      <td>0</td>\n",
       "      <td>0</td>\n",
       "      <td>0</td>\n",
       "      <td>0</td>\n",
       "      <td>0</td>\n",
       "      <td>0</td>\n",
       "      <td>0</td>\n",
       "      <td>0</td>\n",
       "    </tr>\n",
       "    <tr>\n",
       "      <th>7</th>\n",
       "      <td>UK</td>\n",
       "      <td>CommodityPrice</td>\n",
       "      <td>2045</td>\n",
       "      <td>11.083333</td>\n",
       "      <td>0</td>\n",
       "      <td>12.692744</td>\n",
       "      <td>57.166667</td>\n",
       "      <td>19.794434</td>\n",
       "      <td>16.748000</td>\n",
       "      <td>16.748000</td>\n",
       "      <td>...</td>\n",
       "      <td>0</td>\n",
       "      <td>0</td>\n",
       "      <td>0</td>\n",
       "      <td>0</td>\n",
       "      <td>0</td>\n",
       "      <td>0</td>\n",
       "      <td>0</td>\n",
       "      <td>0</td>\n",
       "      <td>0</td>\n",
       "      <td>0</td>\n",
       "    </tr>\n",
       "    <tr>\n",
       "      <th>8</th>\n",
       "      <td>UK</td>\n",
       "      <td>CommodityPrice</td>\n",
       "      <td>2050</td>\n",
       "      <td>11.083333</td>\n",
       "      <td>0</td>\n",
       "      <td>12.692744</td>\n",
       "      <td>57.166667</td>\n",
       "      <td>19.794434</td>\n",
       "      <td>16.748000</td>\n",
       "      <td>16.748000</td>\n",
       "      <td>...</td>\n",
       "      <td>0</td>\n",
       "      <td>0</td>\n",
       "      <td>0</td>\n",
       "      <td>0</td>\n",
       "      <td>0</td>\n",
       "      <td>0</td>\n",
       "      <td>0</td>\n",
       "      <td>0</td>\n",
       "      <td>0</td>\n",
       "      <td>0</td>\n",
       "    </tr>\n",
       "  </tbody>\n",
       "</table>\n",
       "<p>9 rows × 42 columns</p>\n",
       "</div>"
      ],
      "text/plain": [
       "  RegionName       Attribute  Time        NGA  BOG    BIOMASS        ELC  \\\n",
       "0         UK  CommodityPrice  2010  12.552000    0  10.019000  43.342675   \n",
       "1         UK  CommodityPrice  2015  12.479500    0  11.848500  45.822469   \n",
       "2         UK  CommodityPrice  2020  11.083333    0  12.692744  57.166667   \n",
       "3         UK  CommodityPrice  2025  11.083333    0  12.692744  57.166667   \n",
       "4         UK  CommodityPrice  2030  11.083333    0  12.692744  57.166667   \n",
       "5         UK  CommodityPrice  2035  11.083333    0  12.692744  57.166667   \n",
       "6         UK  CommodityPrice  2040  11.083333    0  12.692744  57.166667   \n",
       "7         UK  CommodityPrice  2045  11.083333    0  12.692744  57.166667   \n",
       "8         UK  CommodityPrice  2050  11.083333    0  12.692744  57.166667   \n",
       "\n",
       "         OIL        HCO        LFO  ...  RES.COOLING  RES.COMPUTERS  \\\n",
       "0  19.794434  19.794434  19.794434  ...            0              0   \n",
       "1  19.794434  17.903500  17.903500  ...            0              0   \n",
       "2  19.794434  16.748000  16.748000  ...            0              0   \n",
       "3  19.794434  16.748000  16.748000  ...            0              0   \n",
       "4  19.794434  16.748000  16.748000  ...            0              0   \n",
       "5  19.794434  16.748000  16.748000  ...            0              0   \n",
       "6  19.794434  16.748000  16.748000  ...            0              0   \n",
       "7  19.794434  16.748000  16.748000  ...            0              0   \n",
       "8  19.794434  16.748000  16.748000  ...            0              0   \n",
       "\n",
       "   RES.REFRIGERATORS  RES.LIGHTING  RES.OTHER  RES.WET.APPLIANCES  \\\n",
       "0                  0             0          0                   0   \n",
       "1                  0             0          0                   0   \n",
       "2                  0             0          0                   0   \n",
       "3                  0             0          0                   0   \n",
       "4                  0             0          0                   0   \n",
       "5                  0             0          0                   0   \n",
       "6                  0             0          0                   0   \n",
       "7                  0             0          0                   0   \n",
       "8                  0             0          0                   0   \n",
       "\n",
       "   RES.SPACE-HEAT.EXISTING-AVERAGE  RES.SPACE-HEAT.NEW-AVERAGE  \\\n",
       "0                                0                           0   \n",
       "1                                0                           0   \n",
       "2                                0                           0   \n",
       "3                                0                           0   \n",
       "4                                0                           0   \n",
       "5                                0                           0   \n",
       "6                                0                           0   \n",
       "7                                0                           0   \n",
       "8                                0                           0   \n",
       "\n",
       "   RES.HOT-WATER.EXISTING-AVERAGE  RES.HOT-WATER.NEW-AVERAGE  \n",
       "0                               0                          0  \n",
       "1                               0                          0  \n",
       "2                               0                          0  \n",
       "3                               0                          0  \n",
       "4                               0                          0  \n",
       "5                               0                          0  \n",
       "6                               0                          0  \n",
       "7                               0                          0  \n",
       "8                               0                          0  \n",
       "\n",
       "[9 rows x 42 columns]"
      ]
     },
     "execution_count": 26,
     "metadata": {},
     "output_type": "execute_result"
    }
   ],
   "source": [
    "FileName = 'Projections.csv'\n",
    "Projections1 = service_folder / FileName\n",
    "Projections2 = residential_folder / FileName\n",
    "output_file = output_folder / FileName\n",
    "\n",
    "merge_by_column(Projections1, Projections2, \"Time\", output_file) # merging based on the \"Time\" column"
   ]
  },
  {
   "cell_type": "markdown",
   "metadata": {},
   "source": [
    "## \"ExistingCapacity.csv\" "
   ]
  },
  {
   "cell_type": "code",
   "execution_count": 27,
   "metadata": {},
   "outputs": [
    {
     "name": "stdout",
     "output_type": "stream",
     "text": [
      "Merged files saved to c:\\Users\\jyang8\\MUSE_models\\MUSE_buildings\\Buildings\\MUSE_Files\\ExistingCapacity.csv with duplicates removed.\n"
     ]
    }
   ],
   "source": [
    "FileName = 'ExistingCapacity.csv'\n",
    "merge_by_row(service_folder / FileName\n",
    "                , residential_folder / FileName\n",
    "                , output_folder / FileName\n",
    "                )\n",
    "\n",
    "# reordering the columns in the merged file: [\"ProcessName\", \"RegionName\", \"Unit\"] will be the first three columns\n",
    "reorder_cols = [\"ProcessName\", \"RegionName\", \"Unit\"]\n",
    "merged_ExistingCapacity = pd.read_csv(output_folder / FileName)[reorder_cols + [col for col in pd.read_csv(output_folder / FileName).columns if col not in reorder_cols]]\n",
    "\n",
    "# Save \n",
    "merged_ExistingCapacity.to_csv(output_folder / FileName, index=False)"
   ]
  },
  {
   "cell_type": "markdown",
   "metadata": {},
   "source": [
    "## \"Agent.csv\" * "
   ]
  },
  {
   "cell_type": "code",
   "execution_count": 28,
   "metadata": {},
   "outputs": [
    {
     "name": "stdout",
     "output_type": "stream",
     "text": [
      "Merged files saved to c:\\Users\\jyang8\\MUSE_models\\MUSE_buildings\\Buildings\\MUSE_Files\\GlobalCommodities.csv with duplicates removed.\n"
     ]
    }
   ],
   "source": [
    "FileName = 'GlobalCommodities.csv'\n",
    "GlobalCommodities1 = service_folder / FileName\n",
    "GlobalCommodities2= residential_folder / FileName\n",
    "output_file = output_folder / FileName\n",
    "\n",
    "merge_by_row(GlobalCommodities1, GlobalCommodities2, output_file)"
   ]
  },
  {
   "cell_type": "code",
   "execution_count": 29,
   "metadata": {},
   "outputs": [
    {
     "name": "stdout",
     "output_type": "stream",
     "text": [
      "Merged files saved to c:\\Users\\jyang8\\MUSE_models\\MUSE_buildings\\Buildings\\MUSE_Files\\Agent.csv with duplicates removed.\n"
     ]
    }
   ],
   "source": [
    "FileName = 'Agent.csv'\n",
    "\n",
    "Agent1= residential_folder / FileName\n",
    "Agent2= service_folder / FileName\n",
    "output_file = output_folder / FileName\n",
    "\n",
    "merged_agents = merge_by_row(Agent1, Agent2, output_file)\n"
   ]
  },
  {
   "cell_type": "markdown",
   "metadata": {},
   "source": [
    "====================================END========================================="
   ]
  }
 ],
 "metadata": {
  "kernelspec": {
   "display_name": "Python 3",
   "language": "python",
   "name": "python3"
  },
  "language_info": {
   "codemirror_mode": {
    "name": "ipython",
    "version": 3
   },
   "file_extension": ".py",
   "mimetype": "text/x-python",
   "name": "python",
   "nbconvert_exporter": "python",
   "pygments_lexer": "ipython3",
   "version": "3.12.4"
  }
 },
 "nbformat": 4,
 "nbformat_minor": 2
}
