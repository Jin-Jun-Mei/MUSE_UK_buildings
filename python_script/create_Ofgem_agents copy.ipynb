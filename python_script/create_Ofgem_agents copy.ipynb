{
 "cells": [
  {
   "cell_type": "code",
   "execution_count": null,
   "metadata": {},
   "outputs": [],
   "source": [
    "# pip install pdfplumber\n",
    "import pandas as pd"
   ]
  },
  {
   "cell_type": "code",
   "execution_count": null,
   "metadata": {},
   "outputs": [],
   "source": [
    "\n",
    "data = df_ofgem"
   ]
  },
  {
   "cell_type": "markdown",
   "metadata": {},
   "source": [
    "### Calculate agents' share based on their fuel type and usage"
   ]
  },
  {
   "cell_type": "code",
   "execution_count": null,
   "metadata": {},
   "outputs": [],
   "source": [
    "# Add a function to account for partial matches in heating fuel names\n",
    "def calculate_main_fuel_ratios(data, heating_fuel, consumption_column):\n",
    "    # Filter rows where the heating fuel contains the given type (case-insensitive, exact match avoided)\n",
    "    filtered_data = data[data['Main heating Fuel'].str.contains(heating_fuel, case=False, na=False, regex=False)].copy()\n",
    "    \n",
    "    # Calculate total consumption of the heating fuel for the group\n",
    "    total_fuel_consumption = filtered_data[consumption_column].sum()\n",
    "    \n",
    "    # Calculate the ratio for each archetype within the group\n",
    "    filtered_data['Fuel Consumption Ratio'] = (\n",
    "        filtered_data[consumption_column] / total_fuel_consumption\n",
    "    )\n",
    "    \n",
    "    # Select relevant columns for display\n",
    "    return filtered_data[['Archetype', consumption_column, 'Fuel Consumption Ratio']]\n",
    "\n",
    "# Calculate ratios for \"Mains gas\" based on gas consumption\n",
    "mains_gas_fuel_ratios = calculate_main_fuel_ratios(data, 'Mains gas', 'Average Annual Gas consumption (kWh)')\n",
    "\n",
    "# Calculate ratios for \"Oil\" based on electricity consumption (no specific Oil column in the dataset)\n",
    "oil_fuel_ratios = calculate_main_fuel_ratios(data, 'Oil', 'Average Annual Elec consumption (kWh)')\n",
    "\n",
    "# Calculate ratios for \"Other (solid fuel/LPG)\" based on electricity consumption (assuming lack of specific column)\n",
    "other_fuel_ratios = calculate_main_fuel_ratios(data, 'Other (solid fuel/LPG)', 'Average Annual Elec consumption (kWh)')\n",
    "\n",
    "# Calculate ratios for all main heating fuel types, including \"Electricity\"\n",
    "electricity_fuel_ratios = calculate_main_fuel_ratios(data, 'Electricity', 'Average Annual Elec consumption (kWh)')\n",
    "\n"
   ]
  },
  {
   "cell_type": "code",
   "execution_count": null,
   "metadata": {},
   "outputs": [],
   "source": [
    "# Prepare a DataFrame with columns for archetypes and rows for fuel types\n",
    "fuel_types = ['Mains gas', 'Oil', 'Other (solid fuel/LPG)', 'Electricity']\n",
    "\n",
    "# Initialize an empty DataFrame with fuel types as index\n",
    "ofgem_agent_df = pd.DataFrame(index=fuel_types)\n",
    "\n",
    "# Add values for each fuel type into the DataFrame\n",
    "def add_to_ofgem_agent_df(fuel_ratios, fuel_type, ofgem_agent_df):\n",
    "    for _, row in fuel_ratios.iterrows():\n",
    "        archetype = row['Archetype']\n",
    "        ratio = row['Fuel Consumption Ratio']\n",
    "        # Add the ratio for the specific fuel type and archetype\n",
    "        ofgem_agent_df.loc[fuel_type, archetype] = ratio\n",
    "\n",
    "# Add the calculated ratios to the DataFrame\n",
    "add_to_ofgem_agent_df(mains_gas_fuel_ratios, 'Mains gas', ofgem_agent_df)\n",
    "add_to_ofgem_agent_df(oil_fuel_ratios, 'Oil', ofgem_agent_df)\n",
    "add_to_ofgem_agent_df(other_fuel_ratios, 'Other (solid fuel/LPG)', ofgem_agent_df)\n",
    "add_to_ofgem_agent_df(electricity_fuel_ratios, 'Electricity', ofgem_agent_df)\n",
    "\n",
    "# Fill missing values with 0 for archetypes not using certain fuels\n",
    "ofgem_agent_df = ofgem_agent_df.fillna(0)\n",
    "\n",
    "\n",
    "# Add a new row with values \"new\" under the header of ofgem_agent_df\n",
    "# Create a DataFrame with the same columns, and a single row of \"New\"\n",
    "new_row = pd.DataFrame([[\"new\"] * ofgem_agent_df.shape[1]], columns=ofgem_agent_df.columns)\n",
    "\n",
    "# Concatenate the new row above the existing ofgem_agent_df\n",
    "ofgem_agent_df_with_unit_row = pd.concat([new_row, ofgem_agent_df])\n",
    "\n",
    "ofgem_agent_df_with_unit_row\n",
    "\n"
   ]
  },
  {
   "cell_type": "code",
   "execution_count": null,
   "metadata": {},
   "outputs": [],
   "source": [
    "# Define a function to map fuel types to ofgem_agent_df index\n",
    "def map_fuel_to_type(fuel):\n",
    "    if fuel == \"NGA\":\n",
    "        return \"Mains gas\"\n",
    "    elif fuel in [\"OIL\", \"HCO\"]:\n",
    "        return \"Oil\"\n",
    "    elif fuel == \"ELC\":\n",
    "        return \"Electricity\"\n",
    "    elif fuel == \"HYDROGEN\" or fuel == \"SOLAR\": # for hot-water, some technologies/process use solar as fuel\n",
    "        return None  # Exclude HYDROGEN and SOLAR\n",
    "    elif fuel == \"-\":\n",
    "        return 0 # the Unit row\n",
    "    else:\n",
    "        return \"Other (solid fuel/LPG)\""
   ]
  },
  {
   "cell_type": "code",
   "execution_count": null,
   "metadata": {},
   "outputs": [],
   "source": [
    "def add_agents_to_technodata(techno_data, ofgem_agent_df):\n",
    "    # Add a new column for the mapped fuel type\n",
    "    techno_data['MappedFuelType'] = techno_data['Fuel'].apply(map_fuel_to_type)\n",
    "\n",
    "    # Merge the two DataFrames\n",
    "    technodata_add_agents = techno_data.merge(\n",
    "        ofgem_agent_df_with_unit_row ,  # Use ofgem_agent_df with unit row\n",
    "        left_on='MappedFuelType',  # Match on the mapped fuel type\n",
    "        right_index=True,  # Use the index of ofgem_agent_df (fuel types)\n",
    "        how='left'  # Keep all rows from techno_data\n",
    "    )\n",
    "\n",
    "\n",
    "    #There are NaN values in the archetype columns for rows where 'Fuel' is 'HYDROGEN'. Fill these with 0.\n",
    "\n",
    "    # Identify rows where 'Fuel' is 'HYDROGEN' or 'SOLAR'\n",
    "    hydrogen_rows = (technodata_add_agents['Fuel'] == 'HYDROGEN') | (technodata_add_agents['Fuel'] == 'SOLAR')\n",
    "\n",
    "\n",
    "    # Fill NaN values in archetype columns for these rows with 0\n",
    "    archetype_columns = [col for col in technodata_add_agents.columns if col in ofgem_agent_df.columns]\n",
    "    technodata_add_agents.loc[hydrogen_rows, archetype_columns] =  (\n",
    "        technodata_add_agents.loc[hydrogen_rows, archetype_columns]\n",
    "        .fillna(0)\n",
    "        .infer_objects(copy=False))\n",
    "\n",
    "\n",
    "    # Remove all columns containing \"Agent\", \"agent\", or \"MappedFuelType\"\n",
    "    columns_to_drop = [col for col in technodata_add_agents.columns \n",
    "                                if \"Agent\" in col or \"agent\" in col or col == \"MappedFuelType\"]\n",
    "    # Drop the columns\n",
    "    technodata_add_agents.drop(columns=columns_to_drop, inplace=True)\n",
    "\n",
    "    return technodata_add_agents"
   ]
  },
  {
   "cell_type": "code",
   "execution_count": null,
   "metadata": {},
   "outputs": [],
   "source": [
    "technodata = pass\n",
    "technodata_add_agents = add_agents_to_technodata(technodata, ofgem_agent_df)\n"
   ]
  }
 ],
 "metadata": {
  "kernelspec": {
   "display_name": "Python 3",
   "language": "python",
   "name": "python3"
  },
  "language_info": {
   "codemirror_mode": {
    "name": "ipython",
    "version": 3
   },
   "file_extension": ".py",
   "mimetype": "text/x-python",
   "name": "python",
   "nbconvert_exporter": "python",
   "pygments_lexer": "ipython3",
   "version": "3.12.4"
  }
 },
 "nbformat": 4,
 "nbformat_minor": 2
}
