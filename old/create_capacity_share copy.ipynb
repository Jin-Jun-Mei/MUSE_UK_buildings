{
 "cells": [
  {
   "cell_type": "markdown",
   "metadata": {},
   "source": [
    "### This file creates 'AgentShare' parameters, which is used in 'Technodata.csv'"
   ]
  },
  {
   "cell_type": "code",
   "execution_count": null,
   "metadata": {},
   "outputs": [],
   "source": [
    "# autoreload\n",
    "%load_ext autoreload\n",
    "%autoreload 2"
   ]
  },
  {
   "cell_type": "code",
   "execution_count": 40,
   "metadata": {},
   "outputs": [],
   "source": [
    "# pip install pdfplumber\n",
    "import pandas as pd\n",
    "from pathlib import Path\n",
    "# import numpy as np\n"
   ]
  },
  {
   "cell_type": "markdown",
   "metadata": {},
   "source": []
  },
  {
   "cell_type": "code",
   "execution_count": 41,
   "metadata": {},
   "outputs": [],
   "source": [
    "# the key is the consumption/demand name is MUSE\n",
    "# the value is the name used in the HouseholdElectricitySurveyFinalReportissue4.pdf\n",
    "non_heat_enduses_mapping = {\n",
    "    'RES.COOKING': 'Cooking',\n",
    "    'RES.COOLING': 'Cold appliances',\n",
    "    'RES.CONSUMER-ELECTRONICS.TV': 'Audiovisual',\n",
    "    'RES.LIGHTING': 'Lighting',\n",
    "    'RES.REFRIGERATORS': 'Cold appliances',\n",
    "    'RES.FREEZERS': 'Cold appliances',\n",
    "    'RES.COMPUTERS': 'ICT',\n",
    "    'RES.WET.APPLIANCES': 'Washing/Drying',\n",
    "    'RES.OTHER': 'Other'\n",
    "}\n",
    "\n",
    "heating_enduses_mapping = {\n",
    "    'RES.HOT-WATER': 'Water heating',\n",
    "    'RES.SPACE-HEAT': 'Heating'\n",
    "}\n",
    "non_heat_enduses = list(non_heat_enduses_mapping.keys())\n",
    "heating_enduses = list(heating_enduses_mapping.keys())"
   ]
  },
  {
   "cell_type": "code",
   "execution_count": 42,
   "metadata": {},
   "outputs": [],
   "source": [
    "# Define the logic to categorize heating type\n",
    "# This is based in the survey data in the HouseholdElectricitySurveyFinalReportissue4.pdf\n",
    "def categorize_heating(fuel):\n",
    "    if fuel == \"Mains gas\":\n",
    "        return \"without_elc_heating\"\n",
    "\n",
    "    elif fuel == \"Electricity\":\n",
    "        return \"with_primary_elc_heating\"\n",
    "\n",
    "    else:\n",
    "        return \"with_addition_elc_heating\"\n"
   ]
  },
  {
   "cell_type": "code",
   "execution_count": 43,
   "metadata": {},
   "outputs": [],
   "source": [
    "# Define the data as a list of lists\n",
    "# reference: HouseholdElectricitySurveyFinalReportissue4.pdf\n",
    "data = [\n",
    "\t[\"Enduse\", \"without_elc_heating\", \"with_addition_elc_heating\", \"with_primary_elc_heating\"],\n",
    "\t[\"Cold appliances\", \"16.20%\", \"13.40%\", \"4.70%\"],\n",
    "\t[\"Cooking\", \"13.80%\", \"11.70%\", \"7.20%\"],\n",
    "\t[\"Lighting\", \"15.40%\", \"10.00%\", \"5.80%\"],\n",
    "\t[\"Audiovisual\", \"14.40%\", \"10.40%\", \"3.40%\"],\n",
    "\t[\"ICT\", \"6.10%\", \"3.60%\", \"2.60%\"],\n",
    "\t[\"Washing/Drying\", \"13.60%\", \"10.70%\", \"3.10%\"],\n",
    "\t[\"Heating\", \"0\", \"22.50%\", \"64.20%\"],\n",
    "\t[\"Water heating\", \"7.10%\", \"4.00%\", \"6.30%\"],\n",
    "\t[\"Other\", \"3.70%\", \"5.80%\", \"1.50%\"],\n",
    "\t[\"Not_known\", \"9.70%\", \"7.90%\", \"1.20%\"]\n",
    "]\n",
    "\n",
    "# Convert the data into a pandas DataFrame\n",
    "enduse_multipliers = pd.DataFrame(data[1:], columns=data[0])\n",
    "enduse_multipliers.set_index('Enduse', inplace=True)\n",
    "\n",
    "# Convert percentage strings to numerical values\n",
    "enduse_multipliers = enduse_multipliers.map(lambda x: float(x.strip('%')) / 100 if isinstance(x, str) and '%' in x else x)\n",
    "\n",
    "\n",
    "# Display the DataFrame\n",
    "# enduse_multipliers\n"
   ]
  },
  {
   "cell_type": "code",
   "execution_count": null,
   "metadata": {},
   "outputs": [],
   "source": [
    "df = pass\n",
    "# Apply the logic to create the \"heating type\" column\n",
    "df['heating type'] = df['Main heating Fuel'].apply(categorize_heating)\n",
    "\n",
    "# display the data\n",
    "# df.head()"
   ]
  },
  {
   "cell_type": "code",
   "execution_count": 45,
   "metadata": {},
   "outputs": [],
   "source": [
    "# Function to get the appropriate multiplier\n",
    "def get_multiplier(enduse,heating_type):\n",
    "    try:\n",
    "        return enduse_multipliers.loc[enduse,heating_type]\n",
    "    except KeyError:\n",
    "        raise KeyError(f\"Invalid heating type or enduse: {heating_type}, {enduse}\")\n",
    "    \n",
    "# get_multiplier( \"Cooking\", \"without_elc_heating\")"
   ]
  },
  {
   "cell_type": "code",
   "execution_count": null,
   "metadata": {},
   "outputs": [],
   "source": [
    "for item in list(non_heat_enduses_mapping.keys()):\n",
    "    enduse = non_heat_enduses_mapping[item]\n",
    "\n",
    "    # Calculate electricity consumption from cooking \n",
    "    consumption = df['Average Annual Elec consumption (kWh)'] * df['heating type'].apply(lambda x: get_multiplier(enduse,x))\n",
    "\n",
    "    # Calculate the sum of the 'heating_ratio' column\n",
    "    total_cooking_con = consumption.sum()\n",
    "\n",
    "    # Normalize by dividing each value by the total sum\n",
    "    df[item] = consumption / total_cooking_con\n",
    "\n",
    "    if item == 'REFRIGERATORS' or item == 'FREEZERS':\n",
    "        df[item] /= 2 # divide by 2 to account for the fact that the data is for both refrigerators and freezers"
   ]
  },
  {
   "cell_type": "markdown",
   "metadata": {},
   "source": [
    "============================================================================================="
   ]
  },
  {
   "cell_type": "code",
   "execution_count": 49,
   "metadata": {},
   "outputs": [],
   "source": [
    "col_to_ignore = ['Average Annual Elec consumption (kWh)','Average Annual Gas consumption (kWh)', 'Main heating Fuel', 'heating type']\n",
    "# Exclude columns \"Col2\" and \"Col4\"\n",
    "columns_to_keep = [col for col in df.columns if col not in col_to_ignore]\n",
    "enduse_shares_df = df[columns_to_keep]"
   ]
  },
  {
   "cell_type": "code",
   "execution_count": null,
   "metadata": {},
   "outputs": [],
   "source": [
    "enduse_shares_df.set_index('Archetype', inplace=True)\n",
    "enduse_shares_df = enduse_shares_df.T\n",
    "# enduse_shares_df.to_csv(data_folder / \"enduse_shares.csv\")\n",
    "\n",
    "# print(\"Enduse shares extracted successfully saved to \" + str(data_folder / \"enduse_shares.csv\"))"
   ]
  },
  {
   "cell_type": "code",
   "execution_count": null,
   "metadata": {},
   "outputs": [],
   "source": [
    "# Extract unique index categories\n",
    "enduse_shares_categories = enduse_shares_df.index.unique()\n",
    "\n",
    "# Define a function to find the first matching index in enduse_shares_df based on \"contain\" logic\n",
    "def find_containing_category(enduse_value, categories):\n",
    "    for category in categories:\n",
    "        if category in str(enduse_value):\n",
    "            return category\n",
    "    return None\n",
    "\n",
    "# # Apply the function to create a mapping column in technodata_df\n",
    "# technodata_df_no_unit['Mapped_EndUse'] = technodata_df_no_unit['EndUse'].apply(\n",
    "#     lambda x: find_containing_category(x, enduse_shares_categories)\n",
    "# )\n",
    "# Step 3: Perform the merge with inline mapping\n",
    "merged_no_unit_df = pd.merge(\n",
    "    df_non_heat,\n",
    "    enduse_shares_df,\n",
    "    left_on=df_non_heat['EndUse'].apply(\n",
    "        lambda x: find_containing_category(x, enduse_shares_categories)\n",
    "    ),\n",
    "    right_index=True,\n",
    "    how='left'\n",
    ")\n"
   ]
  }
 ],
 "metadata": {
  "kernelspec": {
   "display_name": "Python 3",
   "language": "python",
   "name": "python3"
  },
  "language_info": {
   "codemirror_mode": {
    "name": "ipython",
    "version": 3
   },
   "file_extension": ".py",
   "mimetype": "text/x-python",
   "name": "python",
   "nbconvert_exporter": "python",
   "pygments_lexer": "ipython3",
   "version": "3.12.4"
  }
 },
 "nbformat": 4,
 "nbformat_minor": 2
}
